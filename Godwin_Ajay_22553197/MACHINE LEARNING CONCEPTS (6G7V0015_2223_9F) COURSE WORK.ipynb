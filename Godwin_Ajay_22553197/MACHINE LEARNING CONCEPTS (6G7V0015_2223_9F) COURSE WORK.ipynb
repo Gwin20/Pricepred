{
 "cells": [
  {
   "cell_type": "code",
   "execution_count": 1,
   "id": "7e147372",
   "metadata": {},
   "outputs": [],
   "source": [
    "import pandas as pd\n",
    "import matplotlib as mlb\n",
    "import matplotlib.pyplot as plt\n",
    "import numpy as np\n",
    "import seaborn as sns"
   ]
  },
  {
   "cell_type": "code",
   "execution_count": 2,
   "id": "80aabd0e",
   "metadata": {},
   "outputs": [],
   "source": [
    "# Supressing the warning messages\n",
    "import warnings\n",
    "warnings.filterwarnings('ignore')"
   ]
  },
  {
   "cell_type": "code",
   "execution_count": 3,
   "id": "47ad6dc0",
   "metadata": {},
   "outputs": [],
   "source": [
    "adverts = pd.read_csv(\"C:/Users/USER/Downloads/adverts.csv\")"
   ]
  },
  {
   "cell_type": "code",
   "execution_count": 4,
   "id": "6ef43b52-3635-4d2a-8d73-7592b16e4e3c",
   "metadata": {},
   "outputs": [
    {
     "data": {
      "text/html": [
       "<div>\n",
       "<style scoped>\n",
       "    .dataframe tbody tr th:only-of-type {\n",
       "        vertical-align: middle;\n",
       "    }\n",
       "\n",
       "    .dataframe tbody tr th {\n",
       "        vertical-align: top;\n",
       "    }\n",
       "\n",
       "    .dataframe thead th {\n",
       "        text-align: right;\n",
       "    }\n",
       "</style>\n",
       "<table border=\"1\" class=\"dataframe\">\n",
       "  <thead>\n",
       "    <tr style=\"text-align: right;\">\n",
       "      <th></th>\n",
       "      <th>public_reference</th>\n",
       "      <th>mileage</th>\n",
       "      <th>reg_code</th>\n",
       "      <th>standard_colour</th>\n",
       "      <th>standard_make</th>\n",
       "      <th>standard_model</th>\n",
       "      <th>vehicle_condition</th>\n",
       "      <th>year_of_registration</th>\n",
       "      <th>price</th>\n",
       "      <th>body_type</th>\n",
       "      <th>crossover_car_and_van</th>\n",
       "      <th>fuel_type</th>\n",
       "    </tr>\n",
       "  </thead>\n",
       "  <tbody>\n",
       "    <tr>\n",
       "      <th>0</th>\n",
       "      <td>202006039777689</td>\n",
       "      <td>0.0</td>\n",
       "      <td>NaN</td>\n",
       "      <td>Grey</td>\n",
       "      <td>Volvo</td>\n",
       "      <td>XC90</td>\n",
       "      <td>NEW</td>\n",
       "      <td>NaN</td>\n",
       "      <td>73970</td>\n",
       "      <td>SUV</td>\n",
       "      <td>False</td>\n",
       "      <td>Petrol Plug-in Hybrid</td>\n",
       "    </tr>\n",
       "    <tr>\n",
       "      <th>1</th>\n",
       "      <td>202007020778260</td>\n",
       "      <td>108230.0</td>\n",
       "      <td>61</td>\n",
       "      <td>Blue</td>\n",
       "      <td>Jaguar</td>\n",
       "      <td>XF</td>\n",
       "      <td>USED</td>\n",
       "      <td>2011.0</td>\n",
       "      <td>7000</td>\n",
       "      <td>Saloon</td>\n",
       "      <td>False</td>\n",
       "      <td>Diesel</td>\n",
       "    </tr>\n",
       "    <tr>\n",
       "      <th>2</th>\n",
       "      <td>202007020778474</td>\n",
       "      <td>7800.0</td>\n",
       "      <td>17</td>\n",
       "      <td>Grey</td>\n",
       "      <td>SKODA</td>\n",
       "      <td>Yeti</td>\n",
       "      <td>USED</td>\n",
       "      <td>2017.0</td>\n",
       "      <td>14000</td>\n",
       "      <td>SUV</td>\n",
       "      <td>False</td>\n",
       "      <td>Petrol</td>\n",
       "    </tr>\n",
       "    <tr>\n",
       "      <th>3</th>\n",
       "      <td>202007080986776</td>\n",
       "      <td>45000.0</td>\n",
       "      <td>16</td>\n",
       "      <td>Brown</td>\n",
       "      <td>Vauxhall</td>\n",
       "      <td>Mokka</td>\n",
       "      <td>USED</td>\n",
       "      <td>2016.0</td>\n",
       "      <td>7995</td>\n",
       "      <td>Hatchback</td>\n",
       "      <td>False</td>\n",
       "      <td>Diesel</td>\n",
       "    </tr>\n",
       "    <tr>\n",
       "      <th>4</th>\n",
       "      <td>202007161321269</td>\n",
       "      <td>64000.0</td>\n",
       "      <td>64</td>\n",
       "      <td>Grey</td>\n",
       "      <td>Land Rover</td>\n",
       "      <td>Range Rover Sport</td>\n",
       "      <td>USED</td>\n",
       "      <td>2015.0</td>\n",
       "      <td>26995</td>\n",
       "      <td>SUV</td>\n",
       "      <td>False</td>\n",
       "      <td>Diesel</td>\n",
       "    </tr>\n",
       "  </tbody>\n",
       "</table>\n",
       "</div>"
      ],
      "text/plain": [
       "   public_reference   mileage reg_code standard_colour standard_make  \\\n",
       "0   202006039777689       0.0      NaN            Grey         Volvo   \n",
       "1   202007020778260  108230.0       61            Blue        Jaguar   \n",
       "2   202007020778474    7800.0       17            Grey         SKODA   \n",
       "3   202007080986776   45000.0       16           Brown      Vauxhall   \n",
       "4   202007161321269   64000.0       64            Grey    Land Rover   \n",
       "\n",
       "      standard_model vehicle_condition  year_of_registration  price  \\\n",
       "0               XC90               NEW                   NaN  73970   \n",
       "1                 XF              USED                2011.0   7000   \n",
       "2               Yeti              USED                2017.0  14000   \n",
       "3              Mokka              USED                2016.0   7995   \n",
       "4  Range Rover Sport              USED                2015.0  26995   \n",
       "\n",
       "   body_type  crossover_car_and_van              fuel_type  \n",
       "0        SUV                  False  Petrol Plug-in Hybrid  \n",
       "1     Saloon                  False                 Diesel  \n",
       "2        SUV                  False                 Petrol  \n",
       "3  Hatchback                  False                 Diesel  \n",
       "4        SUV                  False                 Diesel  "
      ]
     },
     "execution_count": 4,
     "metadata": {},
     "output_type": "execute_result"
    }
   ],
   "source": [
    "adverts.head()"
   ]
  },
  {
   "cell_type": "code",
   "execution_count": 5,
   "id": "eb8fa4b1-ddca-4fe8-a5df-202409c94433",
   "metadata": {},
   "outputs": [
    {
     "data": {
      "text/html": [
       "<div>\n",
       "<style scoped>\n",
       "    .dataframe tbody tr th:only-of-type {\n",
       "        vertical-align: middle;\n",
       "    }\n",
       "\n",
       "    .dataframe tbody tr th {\n",
       "        vertical-align: top;\n",
       "    }\n",
       "\n",
       "    .dataframe thead th {\n",
       "        text-align: right;\n",
       "    }\n",
       "</style>\n",
       "<table border=\"1\" class=\"dataframe\">\n",
       "  <thead>\n",
       "    <tr style=\"text-align: right;\">\n",
       "      <th></th>\n",
       "      <th>public_reference</th>\n",
       "      <th>mileage</th>\n",
       "      <th>reg_code</th>\n",
       "      <th>standard_colour</th>\n",
       "      <th>standard_make</th>\n",
       "      <th>standard_model</th>\n",
       "      <th>vehicle_condition</th>\n",
       "      <th>year_of_registration</th>\n",
       "      <th>price</th>\n",
       "      <th>body_type</th>\n",
       "      <th>crossover_car_and_van</th>\n",
       "      <th>fuel_type</th>\n",
       "    </tr>\n",
       "  </thead>\n",
       "  <tbody>\n",
       "    <tr>\n",
       "      <th>402000</th>\n",
       "      <td>202010315652942</td>\n",
       "      <td>5179.0</td>\n",
       "      <td>69</td>\n",
       "      <td>Grey</td>\n",
       "      <td>Peugeot</td>\n",
       "      <td>208</td>\n",
       "      <td>USED</td>\n",
       "      <td>2019.0</td>\n",
       "      <td>10595</td>\n",
       "      <td>Hatchback</td>\n",
       "      <td>False</td>\n",
       "      <td>Petrol</td>\n",
       "    </tr>\n",
       "    <tr>\n",
       "      <th>402001</th>\n",
       "      <td>202010315657341</td>\n",
       "      <td>110000.0</td>\n",
       "      <td>59</td>\n",
       "      <td>Red</td>\n",
       "      <td>Peugeot</td>\n",
       "      <td>107</td>\n",
       "      <td>USED</td>\n",
       "      <td>2009.0</td>\n",
       "      <td>2000</td>\n",
       "      <td>Hatchback</td>\n",
       "      <td>False</td>\n",
       "      <td>Petrol</td>\n",
       "    </tr>\n",
       "    <tr>\n",
       "      <th>402002</th>\n",
       "      <td>202010315659271</td>\n",
       "      <td>52760.0</td>\n",
       "      <td>62</td>\n",
       "      <td>White</td>\n",
       "      <td>Nissan</td>\n",
       "      <td>Qashqai</td>\n",
       "      <td>USED</td>\n",
       "      <td>2012.0</td>\n",
       "      <td>7250</td>\n",
       "      <td>SUV</td>\n",
       "      <td>False</td>\n",
       "      <td>Petrol</td>\n",
       "    </tr>\n",
       "    <tr>\n",
       "      <th>402003</th>\n",
       "      <td>202011015662436</td>\n",
       "      <td>10250.0</td>\n",
       "      <td>65</td>\n",
       "      <td>Red</td>\n",
       "      <td>Abarth</td>\n",
       "      <td>595</td>\n",
       "      <td>USED</td>\n",
       "      <td>2015.0</td>\n",
       "      <td>11490</td>\n",
       "      <td>Hatchback</td>\n",
       "      <td>False</td>\n",
       "      <td>Petrol</td>\n",
       "    </tr>\n",
       "    <tr>\n",
       "      <th>402004</th>\n",
       "      <td>201512149444029</td>\n",
       "      <td>14000.0</td>\n",
       "      <td>14</td>\n",
       "      <td>Silver</td>\n",
       "      <td>Audi</td>\n",
       "      <td>A4 Avant</td>\n",
       "      <td>USED</td>\n",
       "      <td>2014.0</td>\n",
       "      <td>20520</td>\n",
       "      <td>Estate</td>\n",
       "      <td>False</td>\n",
       "      <td>Diesel</td>\n",
       "    </tr>\n",
       "  </tbody>\n",
       "</table>\n",
       "</div>"
      ],
      "text/plain": [
       "        public_reference   mileage reg_code standard_colour standard_make  \\\n",
       "402000   202010315652942    5179.0       69            Grey       Peugeot   \n",
       "402001   202010315657341  110000.0       59             Red       Peugeot   \n",
       "402002   202010315659271   52760.0       62           White        Nissan   \n",
       "402003   202011015662436   10250.0       65             Red        Abarth   \n",
       "402004   201512149444029   14000.0       14          Silver          Audi   \n",
       "\n",
       "       standard_model vehicle_condition  year_of_registration  price  \\\n",
       "402000            208              USED                2019.0  10595   \n",
       "402001            107              USED                2009.0   2000   \n",
       "402002        Qashqai              USED                2012.0   7250   \n",
       "402003            595              USED                2015.0  11490   \n",
       "402004       A4 Avant              USED                2014.0  20520   \n",
       "\n",
       "        body_type  crossover_car_and_van fuel_type  \n",
       "402000  Hatchback                  False    Petrol  \n",
       "402001  Hatchback                  False    Petrol  \n",
       "402002        SUV                  False    Petrol  \n",
       "402003  Hatchback                  False    Petrol  \n",
       "402004     Estate                  False    Diesel  "
      ]
     },
     "execution_count": 5,
     "metadata": {},
     "output_type": "execute_result"
    }
   ],
   "source": [
    "adverts.tail()"
   ]
  },
  {
   "cell_type": "code",
   "execution_count": 6,
   "id": "3d5c1595-6049-49eb-8f2d-52a4dce6d991",
   "metadata": {},
   "outputs": [
    {
     "data": {
      "text/html": [
       "<div>\n",
       "<style scoped>\n",
       "    .dataframe tbody tr th:only-of-type {\n",
       "        vertical-align: middle;\n",
       "    }\n",
       "\n",
       "    .dataframe tbody tr th {\n",
       "        vertical-align: top;\n",
       "    }\n",
       "\n",
       "    .dataframe thead th {\n",
       "        text-align: right;\n",
       "    }\n",
       "</style>\n",
       "<table border=\"1\" class=\"dataframe\">\n",
       "  <thead>\n",
       "    <tr style=\"text-align: right;\">\n",
       "      <th></th>\n",
       "      <th>public_reference</th>\n",
       "      <th>mileage</th>\n",
       "      <th>reg_code</th>\n",
       "      <th>standard_colour</th>\n",
       "      <th>standard_make</th>\n",
       "      <th>standard_model</th>\n",
       "      <th>vehicle_condition</th>\n",
       "      <th>year_of_registration</th>\n",
       "      <th>price</th>\n",
       "      <th>body_type</th>\n",
       "      <th>crossover_car_and_van</th>\n",
       "      <th>fuel_type</th>\n",
       "    </tr>\n",
       "  </thead>\n",
       "  <tbody>\n",
       "    <tr>\n",
       "      <th>131238</th>\n",
       "      <td>202010175124895</td>\n",
       "      <td>52000.0</td>\n",
       "      <td>15</td>\n",
       "      <td>White</td>\n",
       "      <td>Land Rover</td>\n",
       "      <td>Range Rover</td>\n",
       "      <td>USED</td>\n",
       "      <td>2015.0</td>\n",
       "      <td>30450</td>\n",
       "      <td>SUV</td>\n",
       "      <td>False</td>\n",
       "      <td>Diesel</td>\n",
       "    </tr>\n",
       "    <tr>\n",
       "      <th>1424</th>\n",
       "      <td>202009113589041</td>\n",
       "      <td>30172.0</td>\n",
       "      <td>17</td>\n",
       "      <td>White</td>\n",
       "      <td>Citroen</td>\n",
       "      <td>C4 Cactus</td>\n",
       "      <td>USED</td>\n",
       "      <td>2017.0</td>\n",
       "      <td>8448</td>\n",
       "      <td>Hatchback</td>\n",
       "      <td>False</td>\n",
       "      <td>Diesel</td>\n",
       "    </tr>\n",
       "    <tr>\n",
       "      <th>145932</th>\n",
       "      <td>202009244145193</td>\n",
       "      <td>71809.0</td>\n",
       "      <td>16</td>\n",
       "      <td>Black</td>\n",
       "      <td>Audi</td>\n",
       "      <td>A3</td>\n",
       "      <td>USED</td>\n",
       "      <td>2016.0</td>\n",
       "      <td>13250</td>\n",
       "      <td>Saloon</td>\n",
       "      <td>False</td>\n",
       "      <td>Diesel</td>\n",
       "    </tr>\n",
       "    <tr>\n",
       "      <th>213729</th>\n",
       "      <td>202009304387518</td>\n",
       "      <td>8599.0</td>\n",
       "      <td>68</td>\n",
       "      <td>Black</td>\n",
       "      <td>BMW</td>\n",
       "      <td>3 Series</td>\n",
       "      <td>USED</td>\n",
       "      <td>2018.0</td>\n",
       "      <td>27990</td>\n",
       "      <td>Saloon</td>\n",
       "      <td>False</td>\n",
       "      <td>Diesel</td>\n",
       "    </tr>\n",
       "    <tr>\n",
       "      <th>328318</th>\n",
       "      <td>202009264246201</td>\n",
       "      <td>41000.0</td>\n",
       "      <td>18</td>\n",
       "      <td>Grey</td>\n",
       "      <td>Audi</td>\n",
       "      <td>A5</td>\n",
       "      <td>USED</td>\n",
       "      <td>2018.0</td>\n",
       "      <td>22000</td>\n",
       "      <td>Hatchback</td>\n",
       "      <td>False</td>\n",
       "      <td>Petrol</td>\n",
       "    </tr>\n",
       "    <tr>\n",
       "      <th>217188</th>\n",
       "      <td>202010255421603</td>\n",
       "      <td>71653.0</td>\n",
       "      <td>65</td>\n",
       "      <td>Black</td>\n",
       "      <td>Volkswagen</td>\n",
       "      <td>Golf</td>\n",
       "      <td>USED</td>\n",
       "      <td>2015.0</td>\n",
       "      <td>7995</td>\n",
       "      <td>Hatchback</td>\n",
       "      <td>False</td>\n",
       "      <td>Diesel</td>\n",
       "    </tr>\n",
       "    <tr>\n",
       "      <th>160584</th>\n",
       "      <td>202010225301083</td>\n",
       "      <td>9520.0</td>\n",
       "      <td>68</td>\n",
       "      <td>Red</td>\n",
       "      <td>Nissan</td>\n",
       "      <td>Juke</td>\n",
       "      <td>USED</td>\n",
       "      <td>2018.0</td>\n",
       "      <td>11995</td>\n",
       "      <td>SUV</td>\n",
       "      <td>False</td>\n",
       "      <td>Diesel</td>\n",
       "    </tr>\n",
       "    <tr>\n",
       "      <th>1876</th>\n",
       "      <td>202010074702716</td>\n",
       "      <td>40000.0</td>\n",
       "      <td>15</td>\n",
       "      <td>White</td>\n",
       "      <td>MINI</td>\n",
       "      <td>Convertible</td>\n",
       "      <td>USED</td>\n",
       "      <td>2015.0</td>\n",
       "      <td>8949</td>\n",
       "      <td>Convertible</td>\n",
       "      <td>False</td>\n",
       "      <td>Petrol</td>\n",
       "    </tr>\n",
       "    <tr>\n",
       "      <th>9645</th>\n",
       "      <td>202010285538953</td>\n",
       "      <td>27559.0</td>\n",
       "      <td>17</td>\n",
       "      <td>Black</td>\n",
       "      <td>Volkswagen</td>\n",
       "      <td>Golf</td>\n",
       "      <td>USED</td>\n",
       "      <td>2017.0</td>\n",
       "      <td>22000</td>\n",
       "      <td>Estate</td>\n",
       "      <td>False</td>\n",
       "      <td>Petrol</td>\n",
       "    </tr>\n",
       "    <tr>\n",
       "      <th>111799</th>\n",
       "      <td>202010195187393</td>\n",
       "      <td>36069.0</td>\n",
       "      <td>15</td>\n",
       "      <td>White</td>\n",
       "      <td>Nissan</td>\n",
       "      <td>Juke</td>\n",
       "      <td>USED</td>\n",
       "      <td>2015.0</td>\n",
       "      <td>10500</td>\n",
       "      <td>SUV</td>\n",
       "      <td>False</td>\n",
       "      <td>Petrol</td>\n",
       "    </tr>\n",
       "  </tbody>\n",
       "</table>\n",
       "</div>"
      ],
      "text/plain": [
       "        public_reference  mileage reg_code standard_colour standard_make  \\\n",
       "131238   202010175124895  52000.0       15           White    Land Rover   \n",
       "1424     202009113589041  30172.0       17           White       Citroen   \n",
       "145932   202009244145193  71809.0       16           Black          Audi   \n",
       "213729   202009304387518   8599.0       68           Black           BMW   \n",
       "328318   202009264246201  41000.0       18            Grey          Audi   \n",
       "217188   202010255421603  71653.0       65           Black    Volkswagen   \n",
       "160584   202010225301083   9520.0       68             Red        Nissan   \n",
       "1876     202010074702716  40000.0       15           White          MINI   \n",
       "9645     202010285538953  27559.0       17           Black    Volkswagen   \n",
       "111799   202010195187393  36069.0       15           White        Nissan   \n",
       "\n",
       "       standard_model vehicle_condition  year_of_registration  price  \\\n",
       "131238    Range Rover              USED                2015.0  30450   \n",
       "1424        C4 Cactus              USED                2017.0   8448   \n",
       "145932             A3              USED                2016.0  13250   \n",
       "213729       3 Series              USED                2018.0  27990   \n",
       "328318             A5              USED                2018.0  22000   \n",
       "217188           Golf              USED                2015.0   7995   \n",
       "160584           Juke              USED                2018.0  11995   \n",
       "1876      Convertible              USED                2015.0   8949   \n",
       "9645             Golf              USED                2017.0  22000   \n",
       "111799           Juke              USED                2015.0  10500   \n",
       "\n",
       "          body_type  crossover_car_and_van fuel_type  \n",
       "131238          SUV                  False    Diesel  \n",
       "1424      Hatchback                  False    Diesel  \n",
       "145932       Saloon                  False    Diesel  \n",
       "213729       Saloon                  False    Diesel  \n",
       "328318    Hatchback                  False    Petrol  \n",
       "217188    Hatchback                  False    Diesel  \n",
       "160584          SUV                  False    Diesel  \n",
       "1876    Convertible                  False    Petrol  \n",
       "9645         Estate                  False    Petrol  \n",
       "111799          SUV                  False    Petrol  "
      ]
     },
     "execution_count": 6,
     "metadata": {},
     "output_type": "execute_result"
    }
   ],
   "source": [
    "adverts.sample(10)"
   ]
  },
  {
   "cell_type": "markdown",
   "id": "bfdc7739",
   "metadata": {},
   "source": [
    "#### ANALYSIS OF UNIVARIATE DISTRIBUTIONS"
   ]
  },
  {
   "cell_type": "markdown",
   "id": "da5180be",
   "metadata": {},
   "source": [
    "- #### UNIVARIATE SCATTER PLOTS"
   ]
  },
  {
   "cell_type": "code",
   "execution_count": 7,
   "id": "772beea3",
   "metadata": {},
   "outputs": [
    {
     "data": {
      "text/plain": [
       "count    4.020050e+05\n",
       "mean     1.734197e+04\n",
       "std      4.643746e+04\n",
       "min      1.200000e+02\n",
       "25%      7.495000e+03\n",
       "50%      1.260000e+04\n",
       "75%      2.000000e+04\n",
       "max      9.999999e+06\n",
       "Name: price, dtype: float64"
      ]
     },
     "execution_count": 7,
     "metadata": {},
     "output_type": "execute_result"
    }
   ],
   "source": [
    "adverts['price'].describe()"
   ]
  },
  {
   "cell_type": "code",
   "execution_count": 8,
   "id": "e9e06b16",
   "metadata": {},
   "outputs": [
    {
     "data": {
      "text/plain": [
       "<matplotlib.collections.PathCollection at 0x25ec3c4f760>"
      ]
     },
     "execution_count": 8,
     "metadata": {},
     "output_type": "execute_result"
    },
    {
     "data": {
      "image/png": "[encoded data removed]",
      "text/plain": [
       "<Figure size 432x288 with 1 Axes>"
      ]
     },
     "metadata": {
      "needs_background": "light"
     },
     "output_type": "display_data"
    }
   ],
   "source": [
    "plt.scatter(adverts.index, adverts['price'])"
   ]
  },
  {
   "cell_type": "code",
   "execution_count": 9,
   "id": "e63f6b49",
   "metadata": {},
   "outputs": [
    {
     "data": {
      "text/plain": [
       "count    401878.000000\n",
       "mean      37743.595656\n",
       "std       34831.724018\n",
       "min           0.000000\n",
       "25%       10481.000000\n",
       "50%       28629.500000\n",
       "75%       56875.750000\n",
       "max      999999.000000\n",
       "Name: mileage, dtype: float64"
      ]
     },
     "execution_count": 9,
     "metadata": {},
     "output_type": "execute_result"
    }
   ],
   "source": [
    "adverts['mileage'].describe()"
   ]
  },
  {
   "cell_type": "code",
   "execution_count": 10,
   "id": "542dc85b",
   "metadata": {},
   "outputs": [
    {
     "data": {
      "text/plain": [
       "<matplotlib.collections.PathCollection at 0x25ec46f95e0>"
      ]
     },
     "execution_count": 10,
     "metadata": {},
     "output_type": "execute_result"
    },
    {
     "data": {
      "image/png": "[encoded data removed]",
      "text/plain": [
       "<Figure size 432x288 with 1 Axes>"
      ]
     },
     "metadata": {
      "needs_background": "light"
     },
     "output_type": "display_data"
    }
   ],
   "source": [
    "plt.scatter(adverts.index, adverts['mileage'])"
   ]
  },
  {
   "cell_type": "code",
   "execution_count": 11,
   "id": "ad863216",
   "metadata": {},
   "outputs": [
    {
     "data": {
      "image/png": "[encoded data removed]",
      "text/plain": [
       "<Figure size 720x576 with 1 Axes>"
      ]
     },
     "metadata": {
      "needs_background": "light"
     },
     "output_type": "display_data"
    }
   ],
   "source": [
    "# Create bar chart of the count of each category\n",
    "plt.figure(figsize=(10,8))\n",
    "adverts['body_type'].value_counts().plot(kind='barh')\n",
    "plt.savefig('jolaerrr_plot.jpg', format='jpg')"
   ]
  },
  {
   "cell_type": "markdown",
   "id": "e81b31cf",
   "metadata": {},
   "source": [
    "#### Data Processing for Data exploration and visualization"
   ]
  },
  {
   "cell_type": "code",
   "execution_count": null,
   "id": "04c60f37",
   "metadata": {},
   "outputs": [],
   "source": []
  },
  {
   "cell_type": "code",
   "execution_count": 12,
   "id": "c6545e4f",
   "metadata": {},
   "outputs": [
    {
     "data": {
      "text/plain": [
       "(402005, 12)"
      ]
     },
     "execution_count": 12,
     "metadata": {},
     "output_type": "execute_result"
    }
   ],
   "source": [
    "#shape of the data\n",
    "adverts.shape"
   ]
  },
  {
   "cell_type": "code",
   "execution_count": 13,
   "id": "f55a079e",
   "metadata": {},
   "outputs": [
    {
     "data": {
      "text/html": [
       "<div>\n",
       "<style scoped>\n",
       "    .dataframe tbody tr th:only-of-type {\n",
       "        vertical-align: middle;\n",
       "    }\n",
       "\n",
       "    .dataframe tbody tr th {\n",
       "        vertical-align: top;\n",
       "    }\n",
       "\n",
       "    .dataframe thead th {\n",
       "        text-align: right;\n",
       "    }\n",
       "</style>\n",
       "<table border=\"1\" class=\"dataframe\">\n",
       "  <thead>\n",
       "    <tr style=\"text-align: right;\">\n",
       "      <th></th>\n",
       "      <th>public_reference</th>\n",
       "      <th>mileage</th>\n",
       "      <th>year_of_registration</th>\n",
       "      <th>price</th>\n",
       "    </tr>\n",
       "  </thead>\n",
       "  <tbody>\n",
       "    <tr>\n",
       "      <th>count</th>\n",
       "      <td>4.020050e+05</td>\n",
       "      <td>401878.000000</td>\n",
       "      <td>368694.000000</td>\n",
       "      <td>4.020050e+05</td>\n",
       "    </tr>\n",
       "    <tr>\n",
       "      <th>mean</th>\n",
       "      <td>2.020071e+14</td>\n",
       "      <td>37743.595656</td>\n",
       "      <td>2015.006206</td>\n",
       "      <td>1.734197e+04</td>\n",
       "    </tr>\n",
       "    <tr>\n",
       "      <th>std</th>\n",
       "      <td>1.691662e+10</td>\n",
       "      <td>34831.724018</td>\n",
       "      <td>7.962667</td>\n",
       "      <td>4.643746e+04</td>\n",
       "    </tr>\n",
       "    <tr>\n",
       "      <th>min</th>\n",
       "      <td>2.013072e+14</td>\n",
       "      <td>0.000000</td>\n",
       "      <td>999.000000</td>\n",
       "      <td>1.200000e+02</td>\n",
       "    </tr>\n",
       "    <tr>\n",
       "      <th>25%</th>\n",
       "      <td>2.020090e+14</td>\n",
       "      <td>10481.000000</td>\n",
       "      <td>2013.000000</td>\n",
       "      <td>7.495000e+03</td>\n",
       "    </tr>\n",
       "    <tr>\n",
       "      <th>50%</th>\n",
       "      <td>2.020093e+14</td>\n",
       "      <td>28629.500000</td>\n",
       "      <td>2016.000000</td>\n",
       "      <td>1.260000e+04</td>\n",
       "    </tr>\n",
       "    <tr>\n",
       "      <th>75%</th>\n",
       "      <td>2.020102e+14</td>\n",
       "      <td>56875.750000</td>\n",
       "      <td>2018.000000</td>\n",
       "      <td>2.000000e+04</td>\n",
       "    </tr>\n",
       "    <tr>\n",
       "      <th>max</th>\n",
       "      <td>2.020110e+14</td>\n",
       "      <td>999999.000000</td>\n",
       "      <td>2020.000000</td>\n",
       "      <td>9.999999e+06</td>\n",
       "    </tr>\n",
       "  </tbody>\n",
       "</table>\n",
       "</div>"
      ],
      "text/plain": [
       "       public_reference        mileage  year_of_registration         price\n",
       "count      4.020050e+05  401878.000000         368694.000000  4.020050e+05\n",
       "mean       2.020071e+14   37743.595656           2015.006206  1.734197e+04\n",
       "std        1.691662e+10   34831.724018              7.962667  4.643746e+04\n",
       "min        2.013072e+14       0.000000            999.000000  1.200000e+02\n",
       "25%        2.020090e+14   10481.000000           2013.000000  7.495000e+03\n",
       "50%        2.020093e+14   28629.500000           2016.000000  1.260000e+04\n",
       "75%        2.020102e+14   56875.750000           2018.000000  2.000000e+04\n",
       "max        2.020110e+14  999999.000000           2020.000000  9.999999e+06"
      ]
     },
     "execution_count": 13,
     "metadata": {},
     "output_type": "execute_result"
    }
   ],
   "source": [
    "adverts.describe()"
   ]
  },
  {
   "cell_type": "code",
   "execution_count": 14,
   "id": "26a0bf1f",
   "metadata": {},
   "outputs": [
    {
     "data": {
      "text/html": [
       "<div>\n",
       "<style scoped>\n",
       "    .dataframe tbody tr th:only-of-type {\n",
       "        vertical-align: middle;\n",
       "    }\n",
       "\n",
       "    .dataframe tbody tr th {\n",
       "        vertical-align: top;\n",
       "    }\n",
       "\n",
       "    .dataframe thead th {\n",
       "        text-align: right;\n",
       "    }\n",
       "</style>\n",
       "<table border=\"1\" class=\"dataframe\">\n",
       "  <thead>\n",
       "    <tr style=\"text-align: right;\">\n",
       "      <th></th>\n",
       "      <th>reg_code</th>\n",
       "      <th>standard_colour</th>\n",
       "      <th>standard_make</th>\n",
       "      <th>standard_model</th>\n",
       "      <th>vehicle_condition</th>\n",
       "      <th>body_type</th>\n",
       "      <th>fuel_type</th>\n",
       "    </tr>\n",
       "  </thead>\n",
       "  <tbody>\n",
       "    <tr>\n",
       "      <th>count</th>\n",
       "      <td>370148</td>\n",
       "      <td>396627</td>\n",
       "      <td>402005</td>\n",
       "      <td>402005</td>\n",
       "      <td>402005</td>\n",
       "      <td>401168</td>\n",
       "      <td>401404</td>\n",
       "    </tr>\n",
       "    <tr>\n",
       "      <th>unique</th>\n",
       "      <td>72</td>\n",
       "      <td>22</td>\n",
       "      <td>110</td>\n",
       "      <td>1168</td>\n",
       "      <td>2</td>\n",
       "      <td>16</td>\n",
       "      <td>9</td>\n",
       "    </tr>\n",
       "    <tr>\n",
       "      <th>top</th>\n",
       "      <td>17</td>\n",
       "      <td>Black</td>\n",
       "      <td>BMW</td>\n",
       "      <td>Golf</td>\n",
       "      <td>USED</td>\n",
       "      <td>Hatchback</td>\n",
       "      <td>Petrol</td>\n",
       "    </tr>\n",
       "    <tr>\n",
       "      <th>freq</th>\n",
       "      <td>36738</td>\n",
       "      <td>86287</td>\n",
       "      <td>37376</td>\n",
       "      <td>11583</td>\n",
       "      <td>370756</td>\n",
       "      <td>167315</td>\n",
       "      <td>216929</td>\n",
       "    </tr>\n",
       "  </tbody>\n",
       "</table>\n",
       "</div>"
      ],
      "text/plain": [
       "       reg_code standard_colour standard_make standard_model  \\\n",
       "count    370148          396627        402005         402005   \n",
       "unique       72              22           110           1168   \n",
       "top          17           Black           BMW           Golf   \n",
       "freq      36738           86287         37376          11583   \n",
       "\n",
       "       vehicle_condition  body_type fuel_type  \n",
       "count             402005     401168    401404  \n",
       "unique                 2         16         9  \n",
       "top                 USED  Hatchback    Petrol  \n",
       "freq              370756     167315    216929  "
      ]
     },
     "execution_count": 14,
     "metadata": {},
     "output_type": "execute_result"
    }
   ],
   "source": [
    "adverts.describe(include='object')"
   ]
  },
  {
   "cell_type": "code",
   "execution_count": 15,
   "id": "9f0a1519",
   "metadata": {},
   "outputs": [
    {
     "data": {
      "text/plain": [
       "Index(['public_reference', 'mileage', 'reg_code', 'standard_colour',\n",
       "       'standard_make', 'standard_model', 'vehicle_condition',\n",
       "       'year_of_registration', 'price', 'body_type', 'crossover_car_and_van',\n",
       "       'fuel_type'],\n",
       "      dtype='object')"
      ]
     },
     "execution_count": 15,
     "metadata": {},
     "output_type": "execute_result"
    }
   ],
   "source": [
    "adverts.keys()"
   ]
  },
  {
   "cell_type": "code",
   "execution_count": 16,
   "id": "5ef8fa0d",
   "metadata": {},
   "outputs": [
    {
     "data": {
      "text/plain": [
       "public_reference         402005\n",
       "mileage                   80634\n",
       "reg_code                     72\n",
       "standard_colour              22\n",
       "standard_make               110\n",
       "standard_model             1168\n",
       "vehicle_condition             2\n",
       "year_of_registration         84\n",
       "price                     30578\n",
       "body_type                    16\n",
       "crossover_car_and_van         2\n",
       "fuel_type                     9\n",
       "dtype: int64"
      ]
     },
     "execution_count": 16,
     "metadata": {},
     "output_type": "execute_result"
    }
   ],
   "source": [
    "adverts.nunique()"
   ]
  },
  {
   "cell_type": "code",
   "execution_count": 17,
   "id": "b7721099",
   "metadata": {},
   "outputs": [
    {
     "name": "stdout",
     "output_type": "stream",
     "text": [
      "<class 'pandas.core.frame.DataFrame'>\n",
      "RangeIndex: 402005 entries, 0 to 402004\n",
      "Data columns (total 12 columns):\n",
      " #   Column                 Non-Null Count   Dtype  \n",
      "---  ------                 --------------   -----  \n",
      " 0   public_reference       402005 non-null  int64  \n",
      " 1   mileage                401878 non-null  float64\n",
      " 2   reg_code               370148 non-null  object \n",
      " 3   standard_colour        396627 non-null  object \n",
      " 4   standard_make          402005 non-null  object \n",
      " 5   standard_model         402005 non-null  object \n",
      " 6   vehicle_condition      402005 non-null  object \n",
      " 7   year_of_registration   368694 non-null  float64\n",
      " 8   price                  402005 non-null  int64  \n",
      " 9   body_type              401168 non-null  object \n",
      " 10  crossover_car_and_van  402005 non-null  bool   \n",
      " 11  fuel_type              401404 non-null  object \n",
      "dtypes: bool(1), float64(2), int64(2), object(7)\n",
      "memory usage: 34.1+ MB\n"
     ]
    }
   ],
   "source": [
    "adverts.info()"
   ]
  },
  {
   "cell_type": "code",
   "execution_count": 18,
   "id": "4470ab69",
   "metadata": {},
   "outputs": [
    {
     "data": {
      "text/html": [
       "<div>\n",
       "<style scoped>\n",
       "    .dataframe tbody tr th:only-of-type {\n",
       "        vertical-align: middle;\n",
       "    }\n",
       "\n",
       "    .dataframe tbody tr th {\n",
       "        vertical-align: top;\n",
       "    }\n",
       "\n",
       "    .dataframe thead th {\n",
       "        text-align: right;\n",
       "    }\n",
       "</style>\n",
       "<table border=\"1\" class=\"dataframe\">\n",
       "  <thead>\n",
       "    <tr style=\"text-align: right;\">\n",
       "      <th></th>\n",
       "      <th>Train</th>\n",
       "    </tr>\n",
       "  </thead>\n",
       "  <tbody>\n",
       "    <tr>\n",
       "      <th>mileage</th>\n",
       "      <td>127</td>\n",
       "    </tr>\n",
       "    <tr>\n",
       "      <th>reg_code</th>\n",
       "      <td>31857</td>\n",
       "    </tr>\n",
       "    <tr>\n",
       "      <th>standard_colour</th>\n",
       "      <td>5378</td>\n",
       "    </tr>\n",
       "    <tr>\n",
       "      <th>year_of_registration</th>\n",
       "      <td>33311</td>\n",
       "    </tr>\n",
       "    <tr>\n",
       "      <th>body_type</th>\n",
       "      <td>837</td>\n",
       "    </tr>\n",
       "    <tr>\n",
       "      <th>fuel_type</th>\n",
       "      <td>601</td>\n",
       "    </tr>\n",
       "  </tbody>\n",
       "</table>\n",
       "</div>"
      ],
      "text/plain": [
       "                      Train\n",
       "mileage                 127\n",
       "reg_code              31857\n",
       "standard_colour        5378\n",
       "year_of_registration  33311\n",
       "body_type               837\n",
       "fuel_type               601"
      ]
     },
     "execution_count": 18,
     "metadata": {},
     "output_type": "execute_result"
    }
   ],
   "source": [
    "#check for missing data\n",
    "NAs= pd.concat([adverts.isnull().sum()], axis=1, keys=['Train'])\n",
    "NAs[NAs.sum(axis=1)> 0]"
   ]
  },
  {
   "cell_type": "code",
   "execution_count": 19,
   "id": "881287d4",
   "metadata": {},
   "outputs": [
    {
     "data": {
      "text/html": [
       "<div>\n",
       "<style scoped>\n",
       "    .dataframe tbody tr th:only-of-type {\n",
       "        vertical-align: middle;\n",
       "    }\n",
       "\n",
       "    .dataframe tbody tr th {\n",
       "        vertical-align: top;\n",
       "    }\n",
       "\n",
       "    .dataframe thead th {\n",
       "        text-align: right;\n",
       "    }\n",
       "</style>\n",
       "<table border=\"1\" class=\"dataframe\">\n",
       "  <thead>\n",
       "    <tr style=\"text-align: right;\">\n",
       "      <th></th>\n",
       "      <th>public_reference</th>\n",
       "      <th>mileage</th>\n",
       "      <th>reg_code</th>\n",
       "      <th>standard_colour</th>\n",
       "      <th>standard_make</th>\n",
       "      <th>standard_model</th>\n",
       "      <th>vehicle_condition</th>\n",
       "      <th>year_of_registration</th>\n",
       "      <th>price</th>\n",
       "      <th>body_type</th>\n",
       "      <th>crossover_car_and_van</th>\n",
       "      <th>fuel_type</th>\n",
       "    </tr>\n",
       "  </thead>\n",
       "  <tbody>\n",
       "    <tr>\n",
       "      <th>0</th>\n",
       "      <td>202006039777689</td>\n",
       "      <td>0.0</td>\n",
       "      <td>NaN</td>\n",
       "      <td>Grey</td>\n",
       "      <td>Volvo</td>\n",
       "      <td>XC90</td>\n",
       "      <td>NEW</td>\n",
       "      <td>NaN</td>\n",
       "      <td>73970</td>\n",
       "      <td>SUV</td>\n",
       "      <td>False</td>\n",
       "      <td>Petrol Plug-in Hybrid</td>\n",
       "    </tr>\n",
       "    <tr>\n",
       "      <th>17</th>\n",
       "      <td>201911043995897</td>\n",
       "      <td>5.0</td>\n",
       "      <td>NaN</td>\n",
       "      <td>NaN</td>\n",
       "      <td>Nissan</td>\n",
       "      <td>X-Trail</td>\n",
       "      <td>NEW</td>\n",
       "      <td>NaN</td>\n",
       "      <td>27595</td>\n",
       "      <td>SUV</td>\n",
       "      <td>False</td>\n",
       "      <td>Diesel</td>\n",
       "    </tr>\n",
       "    <tr>\n",
       "      <th>19</th>\n",
       "      <td>202008272998331</td>\n",
       "      <td>0.0</td>\n",
       "      <td>NaN</td>\n",
       "      <td>White</td>\n",
       "      <td>Volkswagen</td>\n",
       "      <td>T-Cross</td>\n",
       "      <td>NEW</td>\n",
       "      <td>NaN</td>\n",
       "      <td>25000</td>\n",
       "      <td>SUV</td>\n",
       "      <td>False</td>\n",
       "      <td>Petrol</td>\n",
       "    </tr>\n",
       "    <tr>\n",
       "      <th>25</th>\n",
       "      <td>202008042070611</td>\n",
       "      <td>49585.0</td>\n",
       "      <td>B</td>\n",
       "      <td>NaN</td>\n",
       "      <td>Ferrari</td>\n",
       "      <td>308</td>\n",
       "      <td>USED</td>\n",
       "      <td>1984.0</td>\n",
       "      <td>54475</td>\n",
       "      <td>Convertible</td>\n",
       "      <td>False</td>\n",
       "      <td>Petrol</td>\n",
       "    </tr>\n",
       "    <tr>\n",
       "      <th>37</th>\n",
       "      <td>202001306737473</td>\n",
       "      <td>0.0</td>\n",
       "      <td>NaN</td>\n",
       "      <td>White</td>\n",
       "      <td>Fiat</td>\n",
       "      <td>Panda</td>\n",
       "      <td>NEW</td>\n",
       "      <td>NaN</td>\n",
       "      <td>13999</td>\n",
       "      <td>Hatchback</td>\n",
       "      <td>False</td>\n",
       "      <td>Petrol</td>\n",
       "    </tr>\n",
       "    <tr>\n",
       "      <th>...</th>\n",
       "      <td>...</td>\n",
       "      <td>...</td>\n",
       "      <td>...</td>\n",
       "      <td>...</td>\n",
       "      <td>...</td>\n",
       "      <td>...</td>\n",
       "      <td>...</td>\n",
       "      <td>...</td>\n",
       "      <td>...</td>\n",
       "      <td>...</td>\n",
       "      <td>...</td>\n",
       "      <td>...</td>\n",
       "    </tr>\n",
       "    <tr>\n",
       "      <th>401902</th>\n",
       "      <td>202010134960554</td>\n",
       "      <td>10.0</td>\n",
       "      <td>NaN</td>\n",
       "      <td>White</td>\n",
       "      <td>BMW</td>\n",
       "      <td>3 Series</td>\n",
       "      <td>NEW</td>\n",
       "      <td>NaN</td>\n",
       "      <td>35023</td>\n",
       "      <td>Saloon</td>\n",
       "      <td>False</td>\n",
       "      <td>Petrol</td>\n",
       "    </tr>\n",
       "    <tr>\n",
       "      <th>401903</th>\n",
       "      <td>202010134965616</td>\n",
       "      <td>25800.0</td>\n",
       "      <td>65</td>\n",
       "      <td>NaN</td>\n",
       "      <td>Mercedes-Benz</td>\n",
       "      <td>AMG GT</td>\n",
       "      <td>USED</td>\n",
       "      <td>2016.0</td>\n",
       "      <td>65900</td>\n",
       "      <td>Coupe</td>\n",
       "      <td>False</td>\n",
       "      <td>Petrol</td>\n",
       "    </tr>\n",
       "    <tr>\n",
       "      <th>401905</th>\n",
       "      <td>202010144983518</td>\n",
       "      <td>0.0</td>\n",
       "      <td>NaN</td>\n",
       "      <td>Red</td>\n",
       "      <td>Land Rover</td>\n",
       "      <td>Range Rover Evoque</td>\n",
       "      <td>NEW</td>\n",
       "      <td>NaN</td>\n",
       "      <td>44995</td>\n",
       "      <td>SUV</td>\n",
       "      <td>False</td>\n",
       "      <td>Petrol</td>\n",
       "    </tr>\n",
       "    <tr>\n",
       "      <th>401931</th>\n",
       "      <td>202010195183847</td>\n",
       "      <td>92261.0</td>\n",
       "      <td>60</td>\n",
       "      <td>NaN</td>\n",
       "      <td>Vauxhall</td>\n",
       "      <td>Antara</td>\n",
       "      <td>USED</td>\n",
       "      <td>2010.0</td>\n",
       "      <td>3495</td>\n",
       "      <td>SUV</td>\n",
       "      <td>False</td>\n",
       "      <td>Diesel</td>\n",
       "    </tr>\n",
       "    <tr>\n",
       "      <th>401971</th>\n",
       "      <td>202010285515882</td>\n",
       "      <td>10.0</td>\n",
       "      <td>NaN</td>\n",
       "      <td>Grey</td>\n",
       "      <td>Nissan</td>\n",
       "      <td>Leaf</td>\n",
       "      <td>NEW</td>\n",
       "      <td>NaN</td>\n",
       "      <td>28820</td>\n",
       "      <td>Hatchback</td>\n",
       "      <td>False</td>\n",
       "      <td>Electric</td>\n",
       "    </tr>\n",
       "  </tbody>\n",
       "</table>\n",
       "<p>38581 rows × 12 columns</p>\n",
       "</div>"
      ],
      "text/plain": [
       "        public_reference  mileage reg_code standard_colour  standard_make  \\\n",
       "0        202006039777689      0.0      NaN            Grey          Volvo   \n",
       "17       201911043995897      5.0      NaN             NaN         Nissan   \n",
       "19       202008272998331      0.0      NaN           White     Volkswagen   \n",
       "25       202008042070611  49585.0        B             NaN        Ferrari   \n",
       "37       202001306737473      0.0      NaN           White           Fiat   \n",
       "...                  ...      ...      ...             ...            ...   \n",
       "401902   202010134960554     10.0      NaN           White            BMW   \n",
       "401903   202010134965616  25800.0       65             NaN  Mercedes-Benz   \n",
       "401905   202010144983518      0.0      NaN             Red     Land Rover   \n",
       "401931   202010195183847  92261.0       60             NaN       Vauxhall   \n",
       "401971   202010285515882     10.0      NaN            Grey         Nissan   \n",
       "\n",
       "            standard_model vehicle_condition  year_of_registration  price  \\\n",
       "0                     XC90               NEW                   NaN  73970   \n",
       "17                 X-Trail               NEW                   NaN  27595   \n",
       "19                 T-Cross               NEW                   NaN  25000   \n",
       "25                     308              USED                1984.0  54475   \n",
       "37                   Panda               NEW                   NaN  13999   \n",
       "...                    ...               ...                   ...    ...   \n",
       "401902            3 Series               NEW                   NaN  35023   \n",
       "401903              AMG GT              USED                2016.0  65900   \n",
       "401905  Range Rover Evoque               NEW                   NaN  44995   \n",
       "401931              Antara              USED                2010.0   3495   \n",
       "401971                Leaf               NEW                   NaN  28820   \n",
       "\n",
       "          body_type  crossover_car_and_van              fuel_type  \n",
       "0               SUV                  False  Petrol Plug-in Hybrid  \n",
       "17              SUV                  False                 Diesel  \n",
       "19              SUV                  False                 Petrol  \n",
       "25      Convertible                  False                 Petrol  \n",
       "37        Hatchback                  False                 Petrol  \n",
       "...             ...                    ...                    ...  \n",
       "401902       Saloon                  False                 Petrol  \n",
       "401903        Coupe                  False                 Petrol  \n",
       "401905          SUV                  False                 Petrol  \n",
       "401931          SUV                  False                 Diesel  \n",
       "401971    Hatchback                  False               Electric  \n",
       "\n",
       "[38581 rows x 12 columns]"
      ]
     },
     "execution_count": 19,
     "metadata": {},
     "output_type": "execute_result"
    }
   ],
   "source": [
    "adverts[adverts.isnull().any(axis=1)]"
   ]
  },
  {
   "cell_type": "code",
   "execution_count": 20,
   "id": "8082e57d",
   "metadata": {},
   "outputs": [
    {
     "data": {
      "text/plain": [
       "array(['NEW', 'USED'], dtype=object)"
      ]
     },
     "execution_count": 20,
     "metadata": {},
     "output_type": "execute_result"
    }
   ],
   "source": [
    "adverts['vehicle_condition'].unique()"
   ]
  },
  {
   "cell_type": "code",
   "execution_count": 21,
   "id": "9e6e1d5c",
   "metadata": {},
   "outputs": [
    {
     "data": {
      "text/plain": [
       "array([  nan, 2011., 2017., 2016., 2015., 2013., 2008., 2019., 2010.,\n",
       "       2012., 2018., 2009., 1984., 2014., 2003., 2006., 2020., 2005.,\n",
       "       2000., 2002., 2007., 2004., 1991., 2001., 1986., 1998., 1990.,\n",
       "       1993., 1987., 1994., 1999., 1970., 1988., 1995., 1997., 1969.,\n",
       "       1992., 1989., 1996., 1976., 1983., 1980., 1973., 1962., 1967.,\n",
       "       1972., 1982., 1968., 1979., 1964., 1933., 1981., 1985., 1978.,\n",
       "       1971., 1974., 1966., 1977., 1961., 1965., 1007., 1957., 1515.,\n",
       "       1963., 1063., 1954., 1975., 1955., 1009., 1016., 1960., 1956.,\n",
       "       1959., 1909., 1934., 1958., 1010., 1950., 1008., 1018.,  999.,\n",
       "       1017., 1952., 1006., 1015.])"
      ]
     },
     "execution_count": 21,
     "metadata": {},
     "output_type": "execute_result"
    }
   ],
   "source": [
    "adverts['year_of_registration'].unique()"
   ]
  },
  {
   "cell_type": "code",
   "execution_count": 22,
   "id": "6d204b64",
   "metadata": {},
   "outputs": [
    {
     "ename": "KeyError",
     "evalue": "''",
     "output_type": "error",
     "traceback": [
      "\u001b[1;31m---------------------------------------------------------------------------\u001b[0m",
      "\u001b[1;31mKeyError\u001b[0m                                  Traceback (most recent call last)",
      "\u001b[1;32m~\\Documents\\anaconda\\lib\\site-packages\\pandas\\core\\indexes\\base.py\u001b[0m in \u001b[0;36mget_loc\u001b[1;34m(self, key, method, tolerance)\u001b[0m\n\u001b[0;32m   3079\u001b[0m             \u001b[1;32mtry\u001b[0m\u001b[1;33m:\u001b[0m\u001b[1;33m\u001b[0m\u001b[1;33m\u001b[0m\u001b[0m\n\u001b[1;32m-> 3080\u001b[1;33m                 \u001b[1;32mreturn\u001b[0m \u001b[0mself\u001b[0m\u001b[1;33m.\u001b[0m\u001b[0m_engine\u001b[0m\u001b[1;33m.\u001b[0m\u001b[0mget_loc\u001b[0m\u001b[1;33m(\u001b[0m\u001b[0mcasted_key\u001b[0m\u001b[1;33m)\u001b[0m\u001b[1;33m\u001b[0m\u001b[1;33m\u001b[0m\u001b[0m\n\u001b[0m\u001b[0;32m   3081\u001b[0m             \u001b[1;32mexcept\u001b[0m \u001b[0mKeyError\u001b[0m \u001b[1;32mas\u001b[0m \u001b[0merr\u001b[0m\u001b[1;33m:\u001b[0m\u001b[1;33m\u001b[0m\u001b[1;33m\u001b[0m\u001b[0m\n",
      "\u001b[1;32mpandas\\_libs\\index.pyx\u001b[0m in \u001b[0;36mpandas._libs.index.IndexEngine.get_loc\u001b[1;34m()\u001b[0m\n",
      "\u001b[1;32mpandas\\_libs\\index.pyx\u001b[0m in \u001b[0;36mpandas._libs.index.IndexEngine.get_loc\u001b[1;34m()\u001b[0m\n",
      "\u001b[1;32mpandas\\_libs\\hashtable_class_helper.pxi\u001b[0m in \u001b[0;36mpandas._libs.hashtable.PyObjectHashTable.get_item\u001b[1;34m()\u001b[0m\n",
      "\u001b[1;32mpandas\\_libs\\hashtable_class_helper.pxi\u001b[0m in \u001b[0;36mpandas._libs.hashtable.PyObjectHashTable.get_item\u001b[1;34m()\u001b[0m\n",
      "\u001b[1;31mKeyError\u001b[0m: ''",
      "\nThe above exception was the direct cause of the following exception:\n",
      "\u001b[1;31mKeyError\u001b[0m                                  Traceback (most recent call last)",
      "\u001b[1;32m<ipython-input-22-1ea7fcdf7b9c>\u001b[0m in \u001b[0;36m<module>\u001b[1;34m\u001b[0m\n\u001b[1;32m----> 1\u001b[1;33m \u001b[0madverts\u001b[0m\u001b[1;33m[\u001b[0m\u001b[1;34m''\u001b[0m\u001b[1;33m]\u001b[0m\u001b[1;33m.\u001b[0m\u001b[0munique\u001b[0m\u001b[1;33m(\u001b[0m\u001b[1;33m)\u001b[0m\u001b[1;33m\u001b[0m\u001b[1;33m\u001b[0m\u001b[0m\n\u001b[0m",
      "\u001b[1;32m~\\Documents\\anaconda\\lib\\site-packages\\pandas\\core\\frame.py\u001b[0m in \u001b[0;36m__getitem__\u001b[1;34m(self, key)\u001b[0m\n\u001b[0;32m   3022\u001b[0m             \u001b[1;32mif\u001b[0m \u001b[0mself\u001b[0m\u001b[1;33m.\u001b[0m\u001b[0mcolumns\u001b[0m\u001b[1;33m.\u001b[0m\u001b[0mnlevels\u001b[0m \u001b[1;33m>\u001b[0m \u001b[1;36m1\u001b[0m\u001b[1;33m:\u001b[0m\u001b[1;33m\u001b[0m\u001b[1;33m\u001b[0m\u001b[0m\n\u001b[0;32m   3023\u001b[0m                 \u001b[1;32mreturn\u001b[0m \u001b[0mself\u001b[0m\u001b[1;33m.\u001b[0m\u001b[0m_getitem_multilevel\u001b[0m\u001b[1;33m(\u001b[0m\u001b[0mkey\u001b[0m\u001b[1;33m)\u001b[0m\u001b[1;33m\u001b[0m\u001b[1;33m\u001b[0m\u001b[0m\n\u001b[1;32m-> 3024\u001b[1;33m             \u001b[0mindexer\u001b[0m \u001b[1;33m=\u001b[0m \u001b[0mself\u001b[0m\u001b[1;33m.\u001b[0m\u001b[0mcolumns\u001b[0m\u001b[1;33m.\u001b[0m\u001b[0mget_loc\u001b[0m\u001b[1;33m(\u001b[0m\u001b[0mkey\u001b[0m\u001b[1;33m)\u001b[0m\u001b[1;33m\u001b[0m\u001b[1;33m\u001b[0m\u001b[0m\n\u001b[0m\u001b[0;32m   3025\u001b[0m             \u001b[1;32mif\u001b[0m \u001b[0mis_integer\u001b[0m\u001b[1;33m(\u001b[0m\u001b[0mindexer\u001b[0m\u001b[1;33m)\u001b[0m\u001b[1;33m:\u001b[0m\u001b[1;33m\u001b[0m\u001b[1;33m\u001b[0m\u001b[0m\n\u001b[0;32m   3026\u001b[0m                 \u001b[0mindexer\u001b[0m \u001b[1;33m=\u001b[0m \u001b[1;33m[\u001b[0m\u001b[0mindexer\u001b[0m\u001b[1;33m]\u001b[0m\u001b[1;33m\u001b[0m\u001b[1;33m\u001b[0m\u001b[0m\n",
      "\u001b[1;32m~\\Documents\\anaconda\\lib\\site-packages\\pandas\\core\\indexes\\base.py\u001b[0m in \u001b[0;36mget_loc\u001b[1;34m(self, key, method, tolerance)\u001b[0m\n\u001b[0;32m   3080\u001b[0m                 \u001b[1;32mreturn\u001b[0m \u001b[0mself\u001b[0m\u001b[1;33m.\u001b[0m\u001b[0m_engine\u001b[0m\u001b[1;33m.\u001b[0m\u001b[0mget_loc\u001b[0m\u001b[1;33m(\u001b[0m\u001b[0mcasted_key\u001b[0m\u001b[1;33m)\u001b[0m\u001b[1;33m\u001b[0m\u001b[1;33m\u001b[0m\u001b[0m\n\u001b[0;32m   3081\u001b[0m             \u001b[1;32mexcept\u001b[0m \u001b[0mKeyError\u001b[0m \u001b[1;32mas\u001b[0m \u001b[0merr\u001b[0m\u001b[1;33m:\u001b[0m\u001b[1;33m\u001b[0m\u001b[1;33m\u001b[0m\u001b[0m\n\u001b[1;32m-> 3082\u001b[1;33m                 \u001b[1;32mraise\u001b[0m \u001b[0mKeyError\u001b[0m\u001b[1;33m(\u001b[0m\u001b[0mkey\u001b[0m\u001b[1;33m)\u001b[0m \u001b[1;32mfrom\u001b[0m \u001b[0merr\u001b[0m\u001b[1;33m\u001b[0m\u001b[1;33m\u001b[0m\u001b[0m\n\u001b[0m\u001b[0;32m   3083\u001b[0m \u001b[1;33m\u001b[0m\u001b[0m\n\u001b[0;32m   3084\u001b[0m         \u001b[1;32mif\u001b[0m \u001b[0mtolerance\u001b[0m \u001b[1;32mis\u001b[0m \u001b[1;32mnot\u001b[0m \u001b[1;32mNone\u001b[0m\u001b[1;33m:\u001b[0m\u001b[1;33m\u001b[0m\u001b[1;33m\u001b[0m\u001b[0m\n",
      "\u001b[1;31mKeyError\u001b[0m: ''"
     ]
    }
   ],
   "source": [
    "adverts[''].unique()"
   ]
  },
  {
   "cell_type": "code",
   "execution_count": null,
   "id": "0a59ca52",
   "metadata": {},
   "outputs": [],
   "source": [
    "#checks for duplicates\n",
    "adverts.duplicated().sum()"
   ]
  },
  {
   "cell_type": "code",
   "execution_count": null,
   "id": "6075eca7",
   "metadata": {},
   "outputs": [],
   "source": [
    "#checking for outliers\n",
    "adverts['mileage'].describe()"
   ]
  },
  {
   "cell_type": "code",
   "execution_count": null,
   "id": "bd67dd9c",
   "metadata": {},
   "outputs": [],
   "source": [
    "adverts['body_type'].value_counts()"
   ]
  },
  {
   "cell_type": "code",
   "execution_count": null,
   "id": "c3b7ba45",
   "metadata": {},
   "outputs": [],
   "source": [
    "adverts['fuel_type'].value_counts()"
   ]
  },
  {
   "cell_type": "code",
   "execution_count": null,
   "id": "e6480541",
   "metadata": {},
   "outputs": [],
   "source": [
    "adverts['standard_make'].value_counts().head(10).plot.bar()"
   ]
  },
  {
   "cell_type": "code",
   "execution_count": null,
   "id": "f35425cc",
   "metadata": {},
   "outputs": [],
   "source": [
    "adverts['standard_model'].value_counts().head(10).plot.bar()\n",
    "sns.set_style('darkgrid')\n",
    "plt.figure(figsize=(14,8))"
   ]
  },
  {
   "cell_type": "code",
   "execution_count": null,
   "id": "2186c066",
   "metadata": {},
   "outputs": [],
   "source": [
    "#Identifying Outliers with Interquartile Range (IQR)\n",
    "#Q1 = adverts.quantile(0.25)\n",
    "#Q3 = adverts.quantile(0.75)\n",
    "#IQR = Q3 - Q1\n",
    "#print(IQR)"
   ]
  },
  {
   "cell_type": "code",
   "execution_count": null,
   "id": "c0e39d02",
   "metadata": {},
   "outputs": [],
   "source": [
    "#Points where the values are 'True' represent the presence of the outlier\n",
    "#adverts_Q = (adverts < (Q1 - 1.5 * IQR)) |(adverts > (Q3 + 1.5 * IQR))\n",
    "#adverts_Q.sample(40)"
   ]
  },
  {
   "cell_type": "code",
   "execution_count": null,
   "id": "992bdbe6",
   "metadata": {},
   "outputs": [],
   "source": [
    "def fill_standard_col_nans(df):\n",
    "    # group the dataframe by make and model\n",
    "    grouped = df.groupby(['standard_make', 'standard_model'])\n",
    "\n",
    "    # for each group, compute the mode of the 'standard_colour' column\n",
    "    for name, group in grouped:\n",
    "        # compute the mode of the 'standard_colour' column\n",
    "        mode = group['standard_colour'].mode()\n",
    "\n",
    "        # only consider non-null values in the mode\n",
    "        non_null_mode = mode[mode.notnull()]\n",
    "\n",
    "        # if there are any non-null values, use the first one as the mode\n",
    "        if non_null_mode.empty:\n",
    "            mode_value = None\n",
    "        else:\n",
    "            mode_value = non_null_mode.iloc[0]\n",
    "\n",
    "        # if the mode value is not NaN, fill in the missing values in the 'standard_colour' column\n",
    "        # with the computed mode value using the fillna() method\n",
    "        if not pd.isnull(mode_value):\n",
    "            df['standard_colour'].fillna(value=mode_value, inplace=True)\n",
    "\n",
    "    return df"
   ]
  },
  {
   "cell_type": "code",
   "execution_count": null,
   "id": "61ad5a6a",
   "metadata": {},
   "outputs": [],
   "source": [
    "fill_standard_col_nans(adverts)"
   ]
  },
  {
   "cell_type": "code",
   "execution_count": null,
   "id": "2ab41fdc",
   "metadata": {},
   "outputs": [],
   "source": [
    "adverts['standard_colour'].unique()"
   ]
  },
  {
   "cell_type": "code",
   "execution_count": null,
   "id": "7470d518",
   "metadata": {},
   "outputs": [],
   "source": [
    "def fill_body_type_nans(df):\n",
    "    # group the dataframe by make\n",
    "    grouped = df.groupby(['standard_make'])\n",
    "\n",
    "    # for each group, compute the mode of the 'body_type' column\n",
    "    for name, group in grouped:\n",
    "        # compute the mode of the 'body_type' column\n",
    "        mode = group['body_type'].mode()\n",
    "\n",
    "        # only consider non-null values in the mode\n",
    "        non_null_mode = mode[mode.notnull()]\n",
    "\n",
    "        # if there are any non-null values, use the first one as the mode\n",
    "        if non_null_mode.empty:\n",
    "            mode_value = None\n",
    "        else:\n",
    "            mode_value = non_null_mode.iloc[0]\n",
    "\n",
    "        # if the mode value is not NaN, fill in the missing values in the 'standard_colour' column\n",
    "        # with the computed mode value using the fillna() method\n",
    "        if not pd.isnull(mode_value):\n",
    "            df['body_type'].fillna(value=mode_value, inplace=True)\n",
    "\n",
    "    return df"
   ]
  },
  {
   "cell_type": "code",
   "execution_count": null,
   "id": "bed6dfe1",
   "metadata": {},
   "outputs": [],
   "source": [
    "fill_body_type_nans(adverts)"
   ]
  },
  {
   "cell_type": "code",
   "execution_count": null,
   "id": "486f3b54",
   "metadata": {},
   "outputs": [],
   "source": [
    "adverts['body_type'].unique()"
   ]
  },
  {
   "cell_type": "code",
   "execution_count": null,
   "id": "6ca9d23a",
   "metadata": {},
   "outputs": [],
   "source": [
    "NAs= pd.concat([adverts.isnull().sum()], axis=1, keys=['Null'])\n",
    "NAs[NAs.sum(axis=1)> 0]"
   ]
  },
  {
   "cell_type": "code",
   "execution_count": null,
   "id": "c1955ab5",
   "metadata": {},
   "outputs": [],
   "source": [
    "#fill missing value with mode(most ocurrring value)\n",
    "adverts['fuel_type']= adverts['fuel_type'].fillna(adverts['fuel_type'].mode()[0])"
   ]
  },
  {
   "cell_type": "code",
   "execution_count": null,
   "id": "c584bce9",
   "metadata": {},
   "outputs": [],
   "source": [
    "adverts['fuel_type'].unique()"
   ]
  },
  {
   "cell_type": "code",
   "execution_count": null,
   "id": "e3a4b5fb",
   "metadata": {},
   "outputs": [],
   "source": [
    "np.sort(adverts[\"year_of_registration\"].unique())"
   ]
  },
  {
   "cell_type": "code",
   "execution_count": null,
   "id": "6afe9d16",
   "metadata": {},
   "outputs": [],
   "source": [
    "# create dictionary with replacement values\n",
    "replacements = {999: 1999, 1006: 2006, 1007:2007, 1008:2008, 1009:2009, 1010:2010, 1015:2015,\n",
    "               1016:2016, 1017:2017, 1018:2018, 1063:1963,1909:1999, 1933:1953, 1515:2015, }\n",
    "\n",
    "# replace values with corresponding values in replacements dictionary\n",
    "adverts[\"year_of_registration\"].replace(to_replace=replacements, inplace=True)"
   ]
  },
  {
   "cell_type": "code",
   "execution_count": null,
   "id": "48dcef23",
   "metadata": {},
   "outputs": [],
   "source": [
    "# create boolean DataFrame indicating non-missing values in year of registration column\n",
    "df_missing = adverts[\"year_of_registration\"].isnull()\n",
    "\n",
    "# group by vehicle condition and calculate total number of non-missing values in year of registration column for each condition\n",
    "missing_counts = df_missing.groupby(adverts[\"vehicle_condition\"]).sum()\n",
    "\n",
    "print(missing_counts)"
   ]
  },
  {
   "cell_type": "code",
   "execution_count": null,
   "id": "31c8204c",
   "metadata": {},
   "outputs": [],
   "source": [
    "# Fill year_of_registration and regcode columns with 2021 and 21, respectively, \n",
    "#where vehicle_condition is 'new' and year_of_registration is nan\n",
    "def fill_year_of_registration(df):\n",
    "    # Fill year_of_registration column with 2021 where vehicle_condition is 'new' and year_of_registration is nan\n",
    "    df.loc[(df['vehicle_condition'] == 'NEW') & (df['year_of_registration'].isnull()), \n",
    "           ['year_of_registration', 'reg_code']] = [2021, 21]\n",
    "    return df"
   ]
  },
  {
   "cell_type": "code",
   "execution_count": null,
   "id": "8582b414",
   "metadata": {},
   "outputs": [],
   "source": [
    "np.sort(adverts[\"year_of_registration\"].unique())"
   ]
  },
  {
   "cell_type": "code",
   "execution_count": null,
   "id": "e3b9c4a0",
   "metadata": {},
   "outputs": [],
   "source": [
    "df = fill_year_of_registration(adverts)"
   ]
  },
  {
   "cell_type": "code",
   "execution_count": null,
   "id": "b23761e6",
   "metadata": {},
   "outputs": [],
   "source": [
    "# create boolean DataFrame indicating non-missing values in year of registration column\n",
    "df_missing = adverts[\"year_of_registration\"].isnull()\n",
    "\n",
    "# group by vehicle condition and calculate total number of non-missing values \n",
    "#in year of registration column for each condition\n",
    "missing_counts = df_missing.groupby(adverts[\"vehicle_condition\"]).sum()\n",
    "\n",
    "print(missing_counts)"
   ]
  },
  {
   "cell_type": "code",
   "execution_count": null,
   "id": "abc034c5",
   "metadata": {},
   "outputs": [],
   "source": [
    "year_identifier = pd.read_csv(\"C:/Users/USER/Downloads/year_identifier.csv\")"
   ]
  },
  {
   "cell_type": "code",
   "execution_count": null,
   "id": "c6cef7dc",
   "metadata": {},
   "outputs": [],
   "source": [
    "year_identifier"
   ]
  },
  {
   "cell_type": "code",
   "execution_count": null,
   "id": "f0aae627",
   "metadata": {},
   "outputs": [],
   "source": [
    "year_identifier.info()"
   ]
  },
  {
   "cell_type": "code",
   "execution_count": null,
   "id": "ea380a0c",
   "metadata": {},
   "outputs": [],
   "source": [
    "age_identifier = pd.read_csv(\"C:/Users/USER/Downloads/age_identifier.csv\")"
   ]
  },
  {
   "cell_type": "code",
   "execution_count": null,
   "id": "1ac5f301",
   "metadata": {},
   "outputs": [],
   "source": [
    "age_identifier"
   ]
  },
  {
   "cell_type": "code",
   "execution_count": null,
   "id": "6d536248",
   "metadata": {},
   "outputs": [],
   "source": [
    "age_identifier['1 September – 28/29 February']=age_identifier['1 September – 28/29 February'].astype(str)"
   ]
  },
  {
   "cell_type": "code",
   "execution_count": null,
   "id": "14b05c2d",
   "metadata": {},
   "outputs": [],
   "source": [
    "# create dictionaries from the age identifier dataframe\n",
    "first_col = dict(zip(age_identifier['1 March – 31 August'],age_identifier['Year']))\n",
    "second_col = dict(zip(age_identifier['1 September – 28/29 February'],age_identifier['Year']))\n",
    "\n",
    "\n",
    "\n",
    "# fillings\n",
    "adverts['year_of_registration'] = adverts['year_of_registration'].fillna(adverts['reg_code'].astype(str).map(first_col))\n",
    "adverts['year_of_registration'] = adverts['year_of_registration'].fillna(adverts['reg_code'].astype(str).map(second_col))\n",
    "\n",
    "# check if year_of_registration is greater than 2021 and assign np.nan if it is\n",
    "adverts['year_of_registration'] = np.where(adverts['year_of_registration'] > 2021, np.nan, adverts['year_of_registration'])"
   ]
  },
  {
   "cell_type": "code",
   "execution_count": null,
   "id": "7937d33d",
   "metadata": {},
   "outputs": [],
   "source": [
    "# check \n",
    "adverts['year_of_registration'].isnull().sum()"
   ]
  },
  {
   "cell_type": "code",
   "execution_count": null,
   "id": "f29e55d1",
   "metadata": {},
   "outputs": [],
   "source": [
    "year_dict = dict(zip(year_identifier.loc[21:41, 'Letter'], year_identifier.loc[21:41, 'Year']))\n",
    "\n",
    "# fillings\n",
    "adverts['year_of_registration'] = adverts['year_of_registration'].fillna(adverts['reg_code'].astype(str).map(year_dict))\n"
   ]
  },
  {
   "cell_type": "code",
   "execution_count": null,
   "id": "8b0d562e",
   "metadata": {},
   "outputs": [],
   "source": [
    "# check \n",
    "adverts['year_of_registration'].isnull().sum()"
   ]
  },
  {
   "cell_type": "code",
   "execution_count": null,
   "id": "e73b115b",
   "metadata": {},
   "outputs": [],
   "source": [
    "def fill_year_of_reg_col_nans(df):\n",
    "    # group the dataframe by make and model\n",
    "    grouped = df.groupby(['standard_make', 'standard_model'])\n",
    "\n",
    "    # for each group, compute the mode of the 'year_of_registration' column\n",
    "    for name, group in grouped:\n",
    "        # compute the mode of the 'year_of_registration' column\n",
    "        mode = group['year_of_registration'].mode()\n",
    "\n",
    "        # only consider non-null values in the mode\n",
    "        non_null_mode = mode[mode.notnull()]\n",
    "\n",
    "        # if there are any non-null values, use the first one as the mode\n",
    "        if non_null_mode.empty:\n",
    "            mode_value = None\n",
    "        else:\n",
    "            mode_value = non_null_mode.iloc[0]\n",
    "\n",
    "        # if the mode value is not NaN, fill in the missing values in the 'year_of_registration' column\n",
    "        # with the computed mode value using the fillna() method\n",
    "        if not pd.isnull(mode_value):\n",
    "            df['year_of_registration'].fillna(value=mode_value, inplace=True)\n",
    "\n",
    "    return df"
   ]
  },
  {
   "cell_type": "code",
   "execution_count": null,
   "id": "d4564171",
   "metadata": {},
   "outputs": [],
   "source": [
    "fill_year_of_reg_col_nans(adverts)"
   ]
  },
  {
   "cell_type": "code",
   "execution_count": 23,
   "id": "17e99489",
   "metadata": {},
   "outputs": [
    {
     "data": {
      "text/html": [
       "<div>\n",
       "<style scoped>\n",
       "    .dataframe tbody tr th:only-of-type {\n",
       "        vertical-align: middle;\n",
       "    }\n",
       "\n",
       "    .dataframe tbody tr th {\n",
       "        vertical-align: top;\n",
       "    }\n",
       "\n",
       "    .dataframe thead th {\n",
       "        text-align: right;\n",
       "    }\n",
       "</style>\n",
       "<table border=\"1\" class=\"dataframe\">\n",
       "  <thead>\n",
       "    <tr style=\"text-align: right;\">\n",
       "      <th></th>\n",
       "      <th>Null</th>\n",
       "    </tr>\n",
       "  </thead>\n",
       "  <tbody>\n",
       "    <tr>\n",
       "      <th>mileage</th>\n",
       "      <td>127</td>\n",
       "    </tr>\n",
       "    <tr>\n",
       "      <th>reg_code</th>\n",
       "      <td>31857</td>\n",
       "    </tr>\n",
       "    <tr>\n",
       "      <th>standard_colour</th>\n",
       "      <td>5378</td>\n",
       "    </tr>\n",
       "    <tr>\n",
       "      <th>year_of_registration</th>\n",
       "      <td>33311</td>\n",
       "    </tr>\n",
       "    <tr>\n",
       "      <th>body_type</th>\n",
       "      <td>837</td>\n",
       "    </tr>\n",
       "    <tr>\n",
       "      <th>fuel_type</th>\n",
       "      <td>601</td>\n",
       "    </tr>\n",
       "  </tbody>\n",
       "</table>\n",
       "</div>"
      ],
      "text/plain": [
       "                       Null\n",
       "mileage                 127\n",
       "reg_code              31857\n",
       "standard_colour        5378\n",
       "year_of_registration  33311\n",
       "body_type               837\n",
       "fuel_type               601"
      ]
     },
     "execution_count": 23,
     "metadata": {},
     "output_type": "execute_result"
    }
   ],
   "source": [
    "NAs= pd.concat([adverts.isnull().sum()], axis=1, keys=['Null'])\n",
    "NAs[NAs.sum(axis=1)> 0]"
   ]
  },
  {
   "cell_type": "code",
   "execution_count": 24,
   "id": "1d850d3c",
   "metadata": {},
   "outputs": [],
   "source": [
    "def fill_nan_in_mileage(data, col):\n",
    "    median = np.nanmedian(data[col])\n",
    "    data[col].fillna(median, inplace=True)"
   ]
  },
  {
   "cell_type": "code",
   "execution_count": 25,
   "id": "5a2bee2e",
   "metadata": {},
   "outputs": [],
   "source": [
    "#calling the function\n",
    "fill_nan_in_mileage(adverts, 'mileage')"
   ]
  },
  {
   "cell_type": "code",
   "execution_count": 26,
   "id": "2cd7215a",
   "metadata": {},
   "outputs": [
    {
     "data": {
      "text/html": [
       "<div>\n",
       "<style scoped>\n",
       "    .dataframe tbody tr th:only-of-type {\n",
       "        vertical-align: middle;\n",
       "    }\n",
       "\n",
       "    .dataframe tbody tr th {\n",
       "        vertical-align: top;\n",
       "    }\n",
       "\n",
       "    .dataframe thead th {\n",
       "        text-align: right;\n",
       "    }\n",
       "</style>\n",
       "<table border=\"1\" class=\"dataframe\">\n",
       "  <thead>\n",
       "    <tr style=\"text-align: right;\">\n",
       "      <th></th>\n",
       "      <th>Null</th>\n",
       "    </tr>\n",
       "  </thead>\n",
       "  <tbody>\n",
       "    <tr>\n",
       "      <th>reg_code</th>\n",
       "      <td>31857</td>\n",
       "    </tr>\n",
       "    <tr>\n",
       "      <th>standard_colour</th>\n",
       "      <td>5378</td>\n",
       "    </tr>\n",
       "    <tr>\n",
       "      <th>year_of_registration</th>\n",
       "      <td>33311</td>\n",
       "    </tr>\n",
       "    <tr>\n",
       "      <th>body_type</th>\n",
       "      <td>837</td>\n",
       "    </tr>\n",
       "    <tr>\n",
       "      <th>fuel_type</th>\n",
       "      <td>601</td>\n",
       "    </tr>\n",
       "  </tbody>\n",
       "</table>\n",
       "</div>"
      ],
      "text/plain": [
       "                       Null\n",
       "reg_code              31857\n",
       "standard_colour        5378\n",
       "year_of_registration  33311\n",
       "body_type               837\n",
       "fuel_type               601"
      ]
     },
     "execution_count": 26,
     "metadata": {},
     "output_type": "execute_result"
    }
   ],
   "source": [
    "NAs= pd.concat([adverts.isnull().sum()], axis=1, keys=['Null'])\n",
    "NAs[NAs.sum(axis=1)> 0]"
   ]
  },
  {
   "cell_type": "code",
   "execution_count": 27,
   "id": "23754ec0",
   "metadata": {},
   "outputs": [
    {
     "data": {
      "text/plain": [
       "(402005, 11)"
      ]
     },
     "execution_count": 27,
     "metadata": {},
     "output_type": "execute_result"
    }
   ],
   "source": [
    "adverts.pop('reg_code')\n",
    "adverts.shape"
   ]
  },
  {
   "cell_type": "code",
   "execution_count": 28,
   "id": "40a50832",
   "metadata": {},
   "outputs": [
    {
     "data": {
      "text/plain": [
       "198060    3799995\n",
       "51741     2850000\n",
       "64910     2695000\n",
       "223835    2500000\n",
       "94033     2400000\n",
       "           ...   \n",
       "91878         200\n",
       "109133        180\n",
       "303316        150\n",
       "300445        122\n",
       "332532        120\n",
       "Name: price, Length: 401999, dtype: int64"
      ]
     },
     "execution_count": 28,
     "metadata": {},
     "output_type": "execute_result"
    }
   ],
   "source": [
    "adverts['price'][adverts['price']<5000000].sort_values(ascending=False)"
   ]
  },
  {
   "cell_type": "code",
   "execution_count": 29,
   "id": "de5765fe",
   "metadata": {},
   "outputs": [],
   "source": [
    "def cap_price(df):\n",
    "    adverts['price'] = adverts['price'].apply(lambda x: 4000000 if x > 4000000 else x)\n",
    "    return df"
   ]
  },
  {
   "cell_type": "code",
   "execution_count": 30,
   "id": "4d37e1c7",
   "metadata": {},
   "outputs": [],
   "source": [
    "adverts = cap_price(adverts)"
   ]
  },
  {
   "cell_type": "code",
   "execution_count": 31,
   "id": "25e58e6a",
   "metadata": {},
   "outputs": [
    {
     "data": {
      "text/plain": [
       "43974     999999.0\n",
       "63569     990000.0\n",
       "85043     930000.0\n",
       "131508    788072.0\n",
       "240577    740000.0\n",
       "            ...   \n",
       "293401         0.0\n",
       "293402         0.0\n",
       "205620         0.0\n",
       "167211         0.0\n",
       "0              0.0\n",
       "Name: mileage, Length: 402005, dtype: float64"
      ]
     },
     "execution_count": 31,
     "metadata": {},
     "output_type": "execute_result"
    }
   ],
   "source": [
    "adverts.sort_values(by='mileage', ascending=False)['mileage']"
   ]
  },
  {
   "cell_type": "code",
   "execution_count": 32,
   "id": "cf0b80ee",
   "metadata": {},
   "outputs": [],
   "source": [
    "def cap_mileage(df):\n",
    "    # Replace values in the mileage column that are greater than 200,000 with 200,000\n",
    "    df['mileage'] = df['mileage'].apply(lambda x: 200000 if x > 200000 else x)\n",
    "    return df"
   ]
  },
  {
   "cell_type": "code",
   "execution_count": 33,
   "id": "cf28a0de",
   "metadata": {},
   "outputs": [],
   "source": [
    "advert = cap_mileage(adverts)"
   ]
  },
  {
   "cell_type": "code",
   "execution_count": 34,
   "id": "87f74f04",
   "metadata": {},
   "outputs": [],
   "source": [
    "def drop_outliers_IQR(df, column):\n",
    "    # Calculate the first and third quartiles\n",
    "    Q1, Q3 = df[column].quantile([0.0, 0.90])\n",
    "    \n",
    "    # Calculate the interQuartile range\n",
    "    IQR = Q3 - Q1\n",
    "    \n",
    "    # Calculate the lower and upper bounds\n",
    "    lower_bound = Q1 - (1.5 * IQR)\n",
    "    upper_bound = Q3 + (1.5 * IQR)\n",
    "    \n",
    "    # Return the data without outliers\n",
    "    return df[(df[column] >= lower_bound) & (df[column] <=upper_bound)]\n"
   ]
  },
  {
   "cell_type": "code",
   "execution_count": 35,
   "id": "0d2b9ecd",
   "metadata": {},
   "outputs": [],
   "source": [
    "adverts=drop_outliers_IQR(adverts, 'price')"
   ]
  },
  {
   "cell_type": "code",
   "execution_count": 36,
   "id": "8c232db9",
   "metadata": {},
   "outputs": [
    {
     "data": {
      "text/html": [
       "<div>\n",
       "<style scoped>\n",
       "    .dataframe tbody tr th:only-of-type {\n",
       "        vertical-align: middle;\n",
       "    }\n",
       "\n",
       "    .dataframe tbody tr th {\n",
       "        vertical-align: top;\n",
       "    }\n",
       "\n",
       "    .dataframe thead th {\n",
       "        text-align: right;\n",
       "    }\n",
       "</style>\n",
       "<table border=\"1\" class=\"dataframe\">\n",
       "  <thead>\n",
       "    <tr style=\"text-align: right;\">\n",
       "      <th></th>\n",
       "      <th>public_reference</th>\n",
       "      <th>mileage</th>\n",
       "      <th>year_of_registration</th>\n",
       "      <th>price</th>\n",
       "    </tr>\n",
       "  </thead>\n",
       "  <tbody>\n",
       "    <tr>\n",
       "      <th>count</th>\n",
       "      <td>3.966470e+05</td>\n",
       "      <td>396647.000000</td>\n",
       "      <td>364630.000000</td>\n",
       "      <td>396647.00000</td>\n",
       "    </tr>\n",
       "    <tr>\n",
       "      <th>mean</th>\n",
       "      <td>2.020072e+14</td>\n",
       "      <td>38098.443839</td>\n",
       "      <td>2015.000200</td>\n",
       "      <td>15499.07251</td>\n",
       "    </tr>\n",
       "    <tr>\n",
       "      <th>std</th>\n",
       "      <td>1.612483e+10</td>\n",
       "      <td>34523.728373</td>\n",
       "      <td>7.957753</td>\n",
       "      <td>12100.36845</td>\n",
       "    </tr>\n",
       "    <tr>\n",
       "      <th>min</th>\n",
       "      <td>2.013072e+14</td>\n",
       "      <td>0.000000</td>\n",
       "      <td>999.000000</td>\n",
       "      <td>120.00000</td>\n",
       "    </tr>\n",
       "    <tr>\n",
       "      <th>25%</th>\n",
       "      <td>2.020090e+14</td>\n",
       "      <td>10978.000000</td>\n",
       "      <td>2013.000000</td>\n",
       "      <td>7490.00000</td>\n",
       "    </tr>\n",
       "    <tr>\n",
       "      <th>50%</th>\n",
       "      <td>2.020093e+14</td>\n",
       "      <td>29000.000000</td>\n",
       "      <td>2016.000000</td>\n",
       "      <td>12495.00000</td>\n",
       "    </tr>\n",
       "    <tr>\n",
       "      <th>75%</th>\n",
       "      <td>2.020102e+14</td>\n",
       "      <td>57123.000000</td>\n",
       "      <td>2018.000000</td>\n",
       "      <td>19799.00000</td>\n",
       "    </tr>\n",
       "    <tr>\n",
       "      <th>max</th>\n",
       "      <td>2.020110e+14</td>\n",
       "      <td>200000.000000</td>\n",
       "      <td>2020.000000</td>\n",
       "      <td>79750.00000</td>\n",
       "    </tr>\n",
       "  </tbody>\n",
       "</table>\n",
       "</div>"
      ],
      "text/plain": [
       "       public_reference        mileage  year_of_registration         price\n",
       "count      3.966470e+05  396647.000000         364630.000000  396647.00000\n",
       "mean       2.020072e+14   38098.443839           2015.000200   15499.07251\n",
       "std        1.612483e+10   34523.728373              7.957753   12100.36845\n",
       "min        2.013072e+14       0.000000            999.000000     120.00000\n",
       "25%        2.020090e+14   10978.000000           2013.000000    7490.00000\n",
       "50%        2.020093e+14   29000.000000           2016.000000   12495.00000\n",
       "75%        2.020102e+14   57123.000000           2018.000000   19799.00000\n",
       "max        2.020110e+14  200000.000000           2020.000000   79750.00000"
      ]
     },
     "execution_count": 36,
     "metadata": {},
     "output_type": "execute_result"
    }
   ],
   "source": [
    "adverts.describe()"
   ]
  },
  {
   "cell_type": "code",
   "execution_count": 37,
   "id": "5bdd103b",
   "metadata": {},
   "outputs": [
    {
     "data": {
      "text/plain": [
       "<AxesSubplot:>"
      ]
     },
     "execution_count": 37,
     "metadata": {},
     "output_type": "execute_result"
    },
    {
     "data": {
      "image/png": "[encoded data removed]",
      "text/plain": [
       "<Figure size 720x576 with 1 Axes>"
      ]
     },
     "metadata": {
      "needs_background": "light"
     },
     "output_type": "display_data"
    }
   ],
   "source": [
    "%matplotlib inline\n",
    "\n",
    "plt.figure(figsize=(10, 8))\n",
    "\n",
    "# Plot the histogram\n",
    "adverts['price'].hist()"
   ]
  },
  {
   "cell_type": "code",
   "execution_count": 38,
   "id": "0b52a7ad",
   "metadata": {},
   "outputs": [
    {
     "data": {
      "image/png": "[encoded data removed]",
      "text/plain": [
       "<Figure size 1008x432 with 1 Axes>"
      ]
     },
     "metadata": {
      "needs_background": "light"
     },
     "output_type": "display_data"
    }
   ],
   "source": [
    "#boxplot to visualize price after removal of outliers\n",
    "plt.figure(figsize=(14,6))\n",
    "sns.boxplot(y=adverts[\"price\"])\n",
    "plt.show()"
   ]
  },
  {
   "cell_type": "code",
   "execution_count": 39,
   "id": "67e440c6",
   "metadata": {},
   "outputs": [
    {
     "data": {
      "text/plain": [
       "<AxesSubplot:>"
      ]
     },
     "execution_count": 39,
     "metadata": {},
     "output_type": "execute_result"
    },
    {
     "data": {
      "image/png": "[encoded data removed]",
      "text/plain": [
       "<Figure size 720x576 with 1 Axes>"
      ]
     },
     "metadata": {
      "needs_background": "light"
     },
     "output_type": "display_data"
    }
   ],
   "source": [
    "%matplotlib inline\n",
    "\n",
    "plt.figure(figsize=(10, 8))\n",
    "\n",
    "# Plot the histogram\n",
    "adverts['mileage'].hist()"
   ]
  },
  {
   "cell_type": "code",
   "execution_count": 40,
   "id": "c86dd7c4",
   "metadata": {},
   "outputs": [
    {
     "data": {
      "text/plain": [
       "(396647, 11)"
      ]
     },
     "execution_count": 40,
     "metadata": {},
     "output_type": "execute_result"
    }
   ],
   "source": [
    "adverts.shape"
   ]
  },
  {
   "cell_type": "code",
   "execution_count": 41,
   "id": "d0a82d8d",
   "metadata": {},
   "outputs": [
    {
     "data": {
      "text/html": [
       "<div>\n",
       "<style scoped>\n",
       "    .dataframe tbody tr th:only-of-type {\n",
       "        vertical-align: middle;\n",
       "    }\n",
       "\n",
       "    .dataframe tbody tr th {\n",
       "        vertical-align: top;\n",
       "    }\n",
       "\n",
       "    .dataframe thead th {\n",
       "        text-align: right;\n",
       "    }\n",
       "</style>\n",
       "<table border=\"1\" class=\"dataframe\">\n",
       "  <thead>\n",
       "    <tr style=\"text-align: right;\">\n",
       "      <th></th>\n",
       "      <th>public_reference</th>\n",
       "      <th>mileage</th>\n",
       "      <th>standard_colour</th>\n",
       "      <th>standard_make</th>\n",
       "      <th>standard_model</th>\n",
       "      <th>vehicle_condition</th>\n",
       "      <th>year_of_registration</th>\n",
       "      <th>price</th>\n",
       "      <th>body_type</th>\n",
       "      <th>crossover_car_and_van</th>\n",
       "      <th>fuel_type</th>\n",
       "      <th>age</th>\n",
       "    </tr>\n",
       "  </thead>\n",
       "  <tbody>\n",
       "    <tr>\n",
       "      <th>0</th>\n",
       "      <td>202006039777689</td>\n",
       "      <td>0.0</td>\n",
       "      <td>Grey</td>\n",
       "      <td>Volvo</td>\n",
       "      <td>XC90</td>\n",
       "      <td>NEW</td>\n",
       "      <td>NaN</td>\n",
       "      <td>73970</td>\n",
       "      <td>SUV</td>\n",
       "      <td>False</td>\n",
       "      <td>Petrol Plug-in Hybrid</td>\n",
       "      <td>NaN</td>\n",
       "    </tr>\n",
       "    <tr>\n",
       "      <th>1</th>\n",
       "      <td>202007020778260</td>\n",
       "      <td>108230.0</td>\n",
       "      <td>Blue</td>\n",
       "      <td>Jaguar</td>\n",
       "      <td>XF</td>\n",
       "      <td>USED</td>\n",
       "      <td>2011.0</td>\n",
       "      <td>7000</td>\n",
       "      <td>Saloon</td>\n",
       "      <td>False</td>\n",
       "      <td>Diesel</td>\n",
       "      <td>10.0</td>\n",
       "    </tr>\n",
       "    <tr>\n",
       "      <th>2</th>\n",
       "      <td>202007020778474</td>\n",
       "      <td>7800.0</td>\n",
       "      <td>Grey</td>\n",
       "      <td>SKODA</td>\n",
       "      <td>Yeti</td>\n",
       "      <td>USED</td>\n",
       "      <td>2017.0</td>\n",
       "      <td>14000</td>\n",
       "      <td>SUV</td>\n",
       "      <td>False</td>\n",
       "      <td>Petrol</td>\n",
       "      <td>4.0</td>\n",
       "    </tr>\n",
       "    <tr>\n",
       "      <th>3</th>\n",
       "      <td>202007080986776</td>\n",
       "      <td>45000.0</td>\n",
       "      <td>Brown</td>\n",
       "      <td>Vauxhall</td>\n",
       "      <td>Mokka</td>\n",
       "      <td>USED</td>\n",
       "      <td>2016.0</td>\n",
       "      <td>7995</td>\n",
       "      <td>Hatchback</td>\n",
       "      <td>False</td>\n",
       "      <td>Diesel</td>\n",
       "      <td>5.0</td>\n",
       "    </tr>\n",
       "    <tr>\n",
       "      <th>4</th>\n",
       "      <td>202007161321269</td>\n",
       "      <td>64000.0</td>\n",
       "      <td>Grey</td>\n",
       "      <td>Land Rover</td>\n",
       "      <td>Range Rover Sport</td>\n",
       "      <td>USED</td>\n",
       "      <td>2015.0</td>\n",
       "      <td>26995</td>\n",
       "      <td>SUV</td>\n",
       "      <td>False</td>\n",
       "      <td>Diesel</td>\n",
       "      <td>6.0</td>\n",
       "    </tr>\n",
       "  </tbody>\n",
       "</table>\n",
       "</div>"
      ],
      "text/plain": [
       "   public_reference   mileage standard_colour standard_make  \\\n",
       "0   202006039777689       0.0            Grey         Volvo   \n",
       "1   202007020778260  108230.0            Blue        Jaguar   \n",
       "2   202007020778474    7800.0            Grey         SKODA   \n",
       "3   202007080986776   45000.0           Brown      Vauxhall   \n",
       "4   202007161321269   64000.0            Grey    Land Rover   \n",
       "\n",
       "      standard_model vehicle_condition  year_of_registration  price  \\\n",
       "0               XC90               NEW                   NaN  73970   \n",
       "1                 XF              USED                2011.0   7000   \n",
       "2               Yeti              USED                2017.0  14000   \n",
       "3              Mokka              USED                2016.0   7995   \n",
       "4  Range Rover Sport              USED                2015.0  26995   \n",
       "\n",
       "   body_type  crossover_car_and_van              fuel_type   age  \n",
       "0        SUV                  False  Petrol Plug-in Hybrid   NaN  \n",
       "1     Saloon                  False                 Diesel  10.0  \n",
       "2        SUV                  False                 Petrol   4.0  \n",
       "3  Hatchback                  False                 Diesel   5.0  \n",
       "4        SUV                  False                 Diesel   6.0  "
      ]
     },
     "execution_count": 41,
     "metadata": {},
     "output_type": "execute_result"
    }
   ],
   "source": [
    "import datetime\n",
    "\n",
    "# Set the current year to 2021\n",
    "current_year = 2021\n",
    "\n",
    "# Create a new feature called \"age\"\n",
    "adverts[\"age\"] = current_year - adverts[\"year_of_registration\"]\n",
    "adverts.head()"
   ]
  },
  {
   "cell_type": "code",
   "execution_count": 42,
   "id": "4a74d537",
   "metadata": {},
   "outputs": [
    {
     "data": {
      "text/html": [
       "<div>\n",
       "<style scoped>\n",
       "    .dataframe tbody tr th:only-of-type {\n",
       "        vertical-align: middle;\n",
       "    }\n",
       "\n",
       "    .dataframe tbody tr th {\n",
       "        vertical-align: top;\n",
       "    }\n",
       "\n",
       "    .dataframe thead th {\n",
       "        text-align: right;\n",
       "    }\n",
       "</style>\n",
       "<table border=\"1\" class=\"dataframe\">\n",
       "  <thead>\n",
       "    <tr style=\"text-align: right;\">\n",
       "      <th></th>\n",
       "      <th>public_reference</th>\n",
       "      <th>mileage</th>\n",
       "      <th>standard_colour</th>\n",
       "      <th>standard_make</th>\n",
       "      <th>standard_model</th>\n",
       "      <th>vehicle_condition</th>\n",
       "      <th>year_of_registration</th>\n",
       "      <th>price</th>\n",
       "      <th>body_type</th>\n",
       "      <th>crossover_car_and_van</th>\n",
       "      <th>fuel_type</th>\n",
       "      <th>age</th>\n",
       "    </tr>\n",
       "  </thead>\n",
       "  <tbody>\n",
       "    <tr>\n",
       "      <th>0</th>\n",
       "      <td>202006039777689</td>\n",
       "      <td>0.0</td>\n",
       "      <td>Grey</td>\n",
       "      <td>Volvo</td>\n",
       "      <td>XC90</td>\n",
       "      <td>NEW</td>\n",
       "      <td>NaN</td>\n",
       "      <td>73970</td>\n",
       "      <td>SUV</td>\n",
       "      <td>False</td>\n",
       "      <td>Petrol Plug-in Hybrid</td>\n",
       "      <td>NaN</td>\n",
       "    </tr>\n",
       "    <tr>\n",
       "      <th>1</th>\n",
       "      <td>202007020778260</td>\n",
       "      <td>108230.0</td>\n",
       "      <td>Blue</td>\n",
       "      <td>Jaguar</td>\n",
       "      <td>XF</td>\n",
       "      <td>USED</td>\n",
       "      <td>2011.0</td>\n",
       "      <td>7000</td>\n",
       "      <td>Saloon</td>\n",
       "      <td>False</td>\n",
       "      <td>Diesel</td>\n",
       "      <td>10.0</td>\n",
       "    </tr>\n",
       "    <tr>\n",
       "      <th>2</th>\n",
       "      <td>202007020778474</td>\n",
       "      <td>7800.0</td>\n",
       "      <td>Grey</td>\n",
       "      <td>SKODA</td>\n",
       "      <td>Yeti</td>\n",
       "      <td>USED</td>\n",
       "      <td>2017.0</td>\n",
       "      <td>14000</td>\n",
       "      <td>SUV</td>\n",
       "      <td>False</td>\n",
       "      <td>Petrol</td>\n",
       "      <td>4.0</td>\n",
       "    </tr>\n",
       "    <tr>\n",
       "      <th>3</th>\n",
       "      <td>202007080986776</td>\n",
       "      <td>45000.0</td>\n",
       "      <td>Brown</td>\n",
       "      <td>Vauxhall</td>\n",
       "      <td>Mokka</td>\n",
       "      <td>USED</td>\n",
       "      <td>2016.0</td>\n",
       "      <td>7995</td>\n",
       "      <td>Hatchback</td>\n",
       "      <td>False</td>\n",
       "      <td>Diesel</td>\n",
       "      <td>5.0</td>\n",
       "    </tr>\n",
       "    <tr>\n",
       "      <th>4</th>\n",
       "      <td>202007161321269</td>\n",
       "      <td>64000.0</td>\n",
       "      <td>Grey</td>\n",
       "      <td>Land Rover</td>\n",
       "      <td>Range Rover Sport</td>\n",
       "      <td>USED</td>\n",
       "      <td>2015.0</td>\n",
       "      <td>26995</td>\n",
       "      <td>SUV</td>\n",
       "      <td>False</td>\n",
       "      <td>Diesel</td>\n",
       "      <td>6.0</td>\n",
       "    </tr>\n",
       "  </tbody>\n",
       "</table>\n",
       "</div>"
      ],
      "text/plain": [
       "   public_reference   mileage standard_colour standard_make  \\\n",
       "0   202006039777689       0.0            Grey         Volvo   \n",
       "1   202007020778260  108230.0            Blue        Jaguar   \n",
       "2   202007020778474    7800.0            Grey         SKODA   \n",
       "3   202007080986776   45000.0           Brown      Vauxhall   \n",
       "4   202007161321269   64000.0            Grey    Land Rover   \n",
       "\n",
       "      standard_model vehicle_condition  year_of_registration  price  \\\n",
       "0               XC90               NEW                   NaN  73970   \n",
       "1                 XF              USED                2011.0   7000   \n",
       "2               Yeti              USED                2017.0  14000   \n",
       "3              Mokka              USED                2016.0   7995   \n",
       "4  Range Rover Sport              USED                2015.0  26995   \n",
       "\n",
       "   body_type  crossover_car_and_van              fuel_type   age  \n",
       "0        SUV                  False  Petrol Plug-in Hybrid   NaN  \n",
       "1     Saloon                  False                 Diesel  10.0  \n",
       "2        SUV                  False                 Petrol   4.0  \n",
       "3  Hatchback                  False                 Diesel   5.0  \n",
       "4        SUV                  False                 Diesel   6.0  "
      ]
     },
     "execution_count": 42,
     "metadata": {},
     "output_type": "execute_result"
    }
   ],
   "source": [
    "adverts.head()"
   ]
  },
  {
   "cell_type": "code",
   "execution_count": 43,
   "id": "fa5fff9d",
   "metadata": {},
   "outputs": [
    {
     "data": {
      "image/png": "[encoded data removed]",
      "text/plain": [
       "<Figure size 504x288 with 2 Axes>"
      ]
     },
     "metadata": {
      "needs_background": "light"
     },
     "output_type": "display_data"
    }
   ],
   "source": [
    "corr = adverts.corr()\n",
    "fig, ax = plt.subplots(figsize=(7, 4))\n",
    "# Create a heat map\n",
    "sns.heatmap(corr,  annot=True)\n",
    "fig.savefig(\"coll.jpeg\")"
   ]
  },
  {
   "cell_type": "code",
   "execution_count": 44,
   "id": "39f395b6",
   "metadata": {},
   "outputs": [],
   "source": [
    "def stratify_sample(data,sample_col, num_of_samples, seed_value=1000):\n",
    "    np.random.seed(seed_value)\n",
    "    return data.groupby(sample_col, group_keys=False).apply(lambda x: x.sample(int(np.rint(num_of_samples*len(x)/len(data))))).sample(frac=1).reset_index(drop=True)\n"
   ]
  },
  {
   "cell_type": "code",
   "execution_count": 45,
   "id": "4abf4dd1",
   "metadata": {},
   "outputs": [],
   "source": [
    "sampled_df = stratify_sample(adverts, 'vehicle_condition', 1000)"
   ]
  },
  {
   "cell_type": "code",
   "execution_count": 46,
   "id": "18a1e178",
   "metadata": {},
   "outputs": [],
   "source": [
    "# Defining a function to find the statistical relationship with all the categorical variables\n",
    "def FunctionAnova(inpData, TargetVariable, CategoricalPredictorList):\n",
    "    from scipy.stats import f_oneway\n",
    "\n",
    "    # Creating an empty list of final selected predictors\n",
    "    SelectedPredictors=[]\n",
    "    \n",
    "    print('##### ANOVA Results ##### \\n')\n",
    "    for predictor in CategoricalPredictorList:\n",
    "        CategoryGroupLists=inpData.groupby(predictor)[TargetVariable].apply(list)\n",
    "        AnovaResults = f_oneway(*CategoryGroupLists)\n",
    "        \n",
    "        # If the ANOVA P-Value is <0.05, that means we reject H0\n",
    "        if (AnovaResults[1] < 0.05):\n",
    "            print(predictor, 'is correlated with', TargetVariable, '| P-Value:', AnovaResults[1])\n",
    "            SelectedPredictors.append(predictor)\n",
    "        else:\n",
    "            print(predictor, 'is NOT correlated with', TargetVariable, '| P-Value:', AnovaResults[1])\n",
    "    \n",
    "    return(SelectedPredictors)"
   ]
  },
  {
   "cell_type": "code",
   "execution_count": 47,
   "id": "44314d64",
   "metadata": {},
   "outputs": [
    {
     "name": "stdout",
     "output_type": "stream",
     "text": [
      "##### ANOVA Results ##### \n",
      "\n",
      "standard_model is correlated with price | P-Value: 6.640052996047211e-68\n",
      "standard_make is correlated with price | P-Value: 3.879545153649509e-39\n",
      "vehicle_condition is correlated with price | P-Value: 1.1157287635872366e-28\n",
      "body_type is correlated with price | P-Value: 1.4530764169791677e-40\n",
      "fuel_type is correlated with price | P-Value: 2.9432031453031775e-16\n",
      "standard_colour is correlated with price | P-Value: 0.03999902927309922\n",
      "crossover_car_and_van is NOT correlated with price | P-Value: 0.16184389635027194\n"
     ]
    },
    {
     "data": {
      "text/plain": [
       "['standard_model',\n",
       " 'standard_make',\n",
       " 'vehicle_condition',\n",
       " 'body_type',\n",
       " 'fuel_type',\n",
       " 'standard_colour']"
      ]
     },
     "execution_count": 47,
     "metadata": {},
     "output_type": "execute_result"
    }
   ],
   "source": [
    "# Calling the function to check which categorical variables are correlated with target\n",
    "# Calling the function to check which categorical variables are correlated with target\n",
    "CategoricalPredictorList=['standard_model', 'standard_make', 'vehicle_condition', 'body_type', 'fuel_type', 'standard_colour' ,'crossover_car_and_van']\n",
    "FunctionAnova(inpData=sampled_df, \n",
    "              TargetVariable='price', \n",
    "              CategoricalPredictorList=CategoricalPredictorList)"
   ]
  },
  {
   "cell_type": "code",
   "execution_count": 48,
   "id": "c0351911",
   "metadata": {},
   "outputs": [],
   "source": [
    "adverts_copy = adverts.copy()"
   ]
  },
  {
   "cell_type": "code",
   "execution_count": 49,
   "id": "476a85e5",
   "metadata": {},
   "outputs": [
    {
     "data": {
      "text/html": [
       "<div>\n",
       "<style scoped>\n",
       "    .dataframe tbody tr th:only-of-type {\n",
       "        vertical-align: middle;\n",
       "    }\n",
       "\n",
       "    .dataframe tbody tr th {\n",
       "        vertical-align: top;\n",
       "    }\n",
       "\n",
       "    .dataframe thead th {\n",
       "        text-align: right;\n",
       "    }\n",
       "</style>\n",
       "<table border=\"1\" class=\"dataframe\">\n",
       "  <thead>\n",
       "    <tr style=\"text-align: right;\">\n",
       "      <th></th>\n",
       "      <th>public_reference</th>\n",
       "      <th>mileage</th>\n",
       "      <th>standard_colour</th>\n",
       "      <th>standard_make</th>\n",
       "      <th>standard_model</th>\n",
       "      <th>vehicle_condition</th>\n",
       "      <th>year_of_registration</th>\n",
       "      <th>price</th>\n",
       "      <th>body_type</th>\n",
       "      <th>crossover_car_and_van</th>\n",
       "      <th>fuel_type</th>\n",
       "      <th>age</th>\n",
       "    </tr>\n",
       "  </thead>\n",
       "  <tbody>\n",
       "    <tr>\n",
       "      <th>0</th>\n",
       "      <td>202006039777689</td>\n",
       "      <td>0.0</td>\n",
       "      <td>Grey</td>\n",
       "      <td>Volvo</td>\n",
       "      <td>XC90</td>\n",
       "      <td>NEW</td>\n",
       "      <td>NaN</td>\n",
       "      <td>73970</td>\n",
       "      <td>SUV</td>\n",
       "      <td>False</td>\n",
       "      <td>Petrol Plug-in Hybrid</td>\n",
       "      <td>NaN</td>\n",
       "    </tr>\n",
       "    <tr>\n",
       "      <th>1</th>\n",
       "      <td>202007020778260</td>\n",
       "      <td>108230.0</td>\n",
       "      <td>Blue</td>\n",
       "      <td>Jaguar</td>\n",
       "      <td>XF</td>\n",
       "      <td>USED</td>\n",
       "      <td>2011.0</td>\n",
       "      <td>7000</td>\n",
       "      <td>Saloon</td>\n",
       "      <td>False</td>\n",
       "      <td>Diesel</td>\n",
       "      <td>10.0</td>\n",
       "    </tr>\n",
       "    <tr>\n",
       "      <th>2</th>\n",
       "      <td>202007020778474</td>\n",
       "      <td>7800.0</td>\n",
       "      <td>Grey</td>\n",
       "      <td>SKODA</td>\n",
       "      <td>Yeti</td>\n",
       "      <td>USED</td>\n",
       "      <td>2017.0</td>\n",
       "      <td>14000</td>\n",
       "      <td>SUV</td>\n",
       "      <td>False</td>\n",
       "      <td>Petrol</td>\n",
       "      <td>4.0</td>\n",
       "    </tr>\n",
       "    <tr>\n",
       "      <th>3</th>\n",
       "      <td>202007080986776</td>\n",
       "      <td>45000.0</td>\n",
       "      <td>Brown</td>\n",
       "      <td>Vauxhall</td>\n",
       "      <td>Mokka</td>\n",
       "      <td>USED</td>\n",
       "      <td>2016.0</td>\n",
       "      <td>7995</td>\n",
       "      <td>Hatchback</td>\n",
       "      <td>False</td>\n",
       "      <td>Diesel</td>\n",
       "      <td>5.0</td>\n",
       "    </tr>\n",
       "    <tr>\n",
       "      <th>4</th>\n",
       "      <td>202007161321269</td>\n",
       "      <td>64000.0</td>\n",
       "      <td>Grey</td>\n",
       "      <td>Land Rover</td>\n",
       "      <td>Range Rover Sport</td>\n",
       "      <td>USED</td>\n",
       "      <td>2015.0</td>\n",
       "      <td>26995</td>\n",
       "      <td>SUV</td>\n",
       "      <td>False</td>\n",
       "      <td>Diesel</td>\n",
       "      <td>6.0</td>\n",
       "    </tr>\n",
       "  </tbody>\n",
       "</table>\n",
       "</div>"
      ],
      "text/plain": [
       "   public_reference   mileage standard_colour standard_make  \\\n",
       "0   202006039777689       0.0            Grey         Volvo   \n",
       "1   202007020778260  108230.0            Blue        Jaguar   \n",
       "2   202007020778474    7800.0            Grey         SKODA   \n",
       "3   202007080986776   45000.0           Brown      Vauxhall   \n",
       "4   202007161321269   64000.0            Grey    Land Rover   \n",
       "\n",
       "      standard_model vehicle_condition  year_of_registration  price  \\\n",
       "0               XC90               NEW                   NaN  73970   \n",
       "1                 XF              USED                2011.0   7000   \n",
       "2               Yeti              USED                2017.0  14000   \n",
       "3              Mokka              USED                2016.0   7995   \n",
       "4  Range Rover Sport              USED                2015.0  26995   \n",
       "\n",
       "   body_type  crossover_car_and_van              fuel_type   age  \n",
       "0        SUV                  False  Petrol Plug-in Hybrid   NaN  \n",
       "1     Saloon                  False                 Diesel  10.0  \n",
       "2        SUV                  False                 Petrol   4.0  \n",
       "3  Hatchback                  False                 Diesel   5.0  \n",
       "4        SUV                  False                 Diesel   6.0  "
      ]
     },
     "execution_count": 49,
     "metadata": {},
     "output_type": "execute_result"
    }
   ],
   "source": [
    "adverts.head()"
   ]
  },
  {
   "cell_type": "code",
   "execution_count": 50,
   "id": "cb045973",
   "metadata": {},
   "outputs": [
    {
     "data": {
      "text/html": [
       "<div>\n",
       "<style scoped>\n",
       "    .dataframe tbody tr th:only-of-type {\n",
       "        vertical-align: middle;\n",
       "    }\n",
       "\n",
       "    .dataframe tbody tr th {\n",
       "        vertical-align: top;\n",
       "    }\n",
       "\n",
       "    .dataframe thead th {\n",
       "        text-align: right;\n",
       "    }\n",
       "</style>\n",
       "<table border=\"1\" class=\"dataframe\">\n",
       "  <thead>\n",
       "    <tr style=\"text-align: right;\">\n",
       "      <th></th>\n",
       "      <th>mileage</th>\n",
       "      <th>year_of_registration</th>\n",
       "      <th>standard_model</th>\n",
       "      <th>standard_make</th>\n",
       "      <th>vehicle_condition</th>\n",
       "      <th>body_type</th>\n",
       "      <th>fuel_type</th>\n",
       "      <th>age</th>\n",
       "      <th>standard_colour</th>\n",
       "      <th>crossover_car_and_van</th>\n",
       "    </tr>\n",
       "  </thead>\n",
       "  <tbody>\n",
       "    <tr>\n",
       "      <th>0</th>\n",
       "      <td>0.0</td>\n",
       "      <td>NaN</td>\n",
       "      <td>XC90</td>\n",
       "      <td>Volvo</td>\n",
       "      <td>NEW</td>\n",
       "      <td>SUV</td>\n",
       "      <td>Petrol Plug-in Hybrid</td>\n",
       "      <td>NaN</td>\n",
       "      <td>Grey</td>\n",
       "      <td>False</td>\n",
       "    </tr>\n",
       "    <tr>\n",
       "      <th>1</th>\n",
       "      <td>108230.0</td>\n",
       "      <td>2011.0</td>\n",
       "      <td>XF</td>\n",
       "      <td>Jaguar</td>\n",
       "      <td>USED</td>\n",
       "      <td>Saloon</td>\n",
       "      <td>Diesel</td>\n",
       "      <td>10.0</td>\n",
       "      <td>Blue</td>\n",
       "      <td>False</td>\n",
       "    </tr>\n",
       "    <tr>\n",
       "      <th>2</th>\n",
       "      <td>7800.0</td>\n",
       "      <td>2017.0</td>\n",
       "      <td>Yeti</td>\n",
       "      <td>SKODA</td>\n",
       "      <td>USED</td>\n",
       "      <td>SUV</td>\n",
       "      <td>Petrol</td>\n",
       "      <td>4.0</td>\n",
       "      <td>Grey</td>\n",
       "      <td>False</td>\n",
       "    </tr>\n",
       "    <tr>\n",
       "      <th>3</th>\n",
       "      <td>45000.0</td>\n",
       "      <td>2016.0</td>\n",
       "      <td>Mokka</td>\n",
       "      <td>Vauxhall</td>\n",
       "      <td>USED</td>\n",
       "      <td>Hatchback</td>\n",
       "      <td>Diesel</td>\n",
       "      <td>5.0</td>\n",
       "      <td>Brown</td>\n",
       "      <td>False</td>\n",
       "    </tr>\n",
       "    <tr>\n",
       "      <th>4</th>\n",
       "      <td>64000.0</td>\n",
       "      <td>2015.0</td>\n",
       "      <td>Range Rover Sport</td>\n",
       "      <td>Land Rover</td>\n",
       "      <td>USED</td>\n",
       "      <td>SUV</td>\n",
       "      <td>Diesel</td>\n",
       "      <td>6.0</td>\n",
       "      <td>Grey</td>\n",
       "      <td>False</td>\n",
       "    </tr>\n",
       "  </tbody>\n",
       "</table>\n",
       "</div>"
      ],
      "text/plain": [
       "    mileage  year_of_registration     standard_model standard_make  \\\n",
       "0       0.0                   NaN               XC90         Volvo   \n",
       "1  108230.0                2011.0                 XF        Jaguar   \n",
       "2    7800.0                2017.0               Yeti         SKODA   \n",
       "3   45000.0                2016.0              Mokka      Vauxhall   \n",
       "4   64000.0                2015.0  Range Rover Sport    Land Rover   \n",
       "\n",
       "  vehicle_condition  body_type              fuel_type   age standard_colour  \\\n",
       "0               NEW        SUV  Petrol Plug-in Hybrid   NaN            Grey   \n",
       "1              USED     Saloon                 Diesel  10.0            Blue   \n",
       "2              USED        SUV                 Petrol   4.0            Grey   \n",
       "3              USED  Hatchback                 Diesel   5.0           Brown   \n",
       "4              USED        SUV                 Diesel   6.0            Grey   \n",
       "\n",
       "   crossover_car_and_van  \n",
       "0                  False  \n",
       "1                  False  \n",
       "2                  False  \n",
       "3                  False  \n",
       "4                  False  "
      ]
     },
     "execution_count": 50,
     "metadata": {},
     "output_type": "execute_result"
    }
   ],
   "source": [
    "SelectedColumns=['mileage','year_of_registration','standard_model','standard_make', 'vehicle_condition', 'body_type', 'fuel_type','age', 'standard_colour', 'crossover_car_and_van']\n",
    "# Selecting final columns\n",
    "DataForML=adverts[SelectedColumns]\n",
    "DataForML.head()"
   ]
  },
  {
   "cell_type": "code",
   "execution_count": 51,
   "id": "8ddf68fc",
   "metadata": {},
   "outputs": [],
   "source": [
    "#Saving this final data for reference during deployment\n",
    "DataForML.to_pickle('DataForML.pkl')"
   ]
  },
  {
   "cell_type": "code",
   "execution_count": 52,
   "id": "f281bc9d",
   "metadata": {},
   "outputs": [
    {
     "data": {
      "text/html": [
       "<div>\n",
       "<style scoped>\n",
       "    .dataframe tbody tr th:only-of-type {\n",
       "        vertical-align: middle;\n",
       "    }\n",
       "\n",
       "    .dataframe tbody tr th {\n",
       "        vertical-align: top;\n",
       "    }\n",
       "\n",
       "    .dataframe thead th {\n",
       "        text-align: right;\n",
       "    }\n",
       "</style>\n",
       "<table border=\"1\" class=\"dataframe\">\n",
       "  <thead>\n",
       "    <tr style=\"text-align: right;\">\n",
       "      <th></th>\n",
       "      <th>mileage</th>\n",
       "      <th>year_of_registration</th>\n",
       "      <th>standard_model</th>\n",
       "      <th>standard_make</th>\n",
       "      <th>vehicle_condition</th>\n",
       "      <th>body_type</th>\n",
       "      <th>fuel_type</th>\n",
       "      <th>age</th>\n",
       "      <th>standard_colour</th>\n",
       "      <th>crossover_car_and_van</th>\n",
       "      <th>price</th>\n",
       "    </tr>\n",
       "  </thead>\n",
       "  <tbody>\n",
       "    <tr>\n",
       "      <th>0</th>\n",
       "      <td>0.0</td>\n",
       "      <td>NaN</td>\n",
       "      <td>XC90</td>\n",
       "      <td>Volvo</td>\n",
       "      <td>NEW</td>\n",
       "      <td>SUV</td>\n",
       "      <td>Petrol Plug-in Hybrid</td>\n",
       "      <td>NaN</td>\n",
       "      <td>Grey</td>\n",
       "      <td>False</td>\n",
       "      <td>73970</td>\n",
       "    </tr>\n",
       "    <tr>\n",
       "      <th>1</th>\n",
       "      <td>108230.0</td>\n",
       "      <td>2011.0</td>\n",
       "      <td>XF</td>\n",
       "      <td>Jaguar</td>\n",
       "      <td>USED</td>\n",
       "      <td>Saloon</td>\n",
       "      <td>Diesel</td>\n",
       "      <td>10.0</td>\n",
       "      <td>Blue</td>\n",
       "      <td>False</td>\n",
       "      <td>7000</td>\n",
       "    </tr>\n",
       "    <tr>\n",
       "      <th>2</th>\n",
       "      <td>7800.0</td>\n",
       "      <td>2017.0</td>\n",
       "      <td>Yeti</td>\n",
       "      <td>SKODA</td>\n",
       "      <td>USED</td>\n",
       "      <td>SUV</td>\n",
       "      <td>Petrol</td>\n",
       "      <td>4.0</td>\n",
       "      <td>Grey</td>\n",
       "      <td>False</td>\n",
       "      <td>14000</td>\n",
       "    </tr>\n",
       "    <tr>\n",
       "      <th>3</th>\n",
       "      <td>45000.0</td>\n",
       "      <td>2016.0</td>\n",
       "      <td>Mokka</td>\n",
       "      <td>Vauxhall</td>\n",
       "      <td>USED</td>\n",
       "      <td>Hatchback</td>\n",
       "      <td>Diesel</td>\n",
       "      <td>5.0</td>\n",
       "      <td>Brown</td>\n",
       "      <td>False</td>\n",
       "      <td>7995</td>\n",
       "    </tr>\n",
       "    <tr>\n",
       "      <th>4</th>\n",
       "      <td>64000.0</td>\n",
       "      <td>2015.0</td>\n",
       "      <td>Range Rover Sport</td>\n",
       "      <td>Land Rover</td>\n",
       "      <td>USED</td>\n",
       "      <td>SUV</td>\n",
       "      <td>Diesel</td>\n",
       "      <td>6.0</td>\n",
       "      <td>Grey</td>\n",
       "      <td>False</td>\n",
       "      <td>26995</td>\n",
       "    </tr>\n",
       "  </tbody>\n",
       "</table>\n",
       "</div>"
      ],
      "text/plain": [
       "    mileage  year_of_registration     standard_model standard_make  \\\n",
       "0       0.0                   NaN               XC90         Volvo   \n",
       "1  108230.0                2011.0                 XF        Jaguar   \n",
       "2    7800.0                2017.0               Yeti         SKODA   \n",
       "3   45000.0                2016.0              Mokka      Vauxhall   \n",
       "4   64000.0                2015.0  Range Rover Sport    Land Rover   \n",
       "\n",
       "  vehicle_condition  body_type              fuel_type   age standard_colour  \\\n",
       "0               NEW        SUV  Petrol Plug-in Hybrid   NaN            Grey   \n",
       "1              USED     Saloon                 Diesel  10.0            Blue   \n",
       "2              USED        SUV                 Petrol   4.0            Grey   \n",
       "3              USED  Hatchback                 Diesel   5.0           Brown   \n",
       "4              USED        SUV                 Diesel   6.0            Grey   \n",
       "\n",
       "   crossover_car_and_van  price  \n",
       "0                  False  73970  \n",
       "1                  False   7000  \n",
       "2                  False  14000  \n",
       "3                  False   7995  \n",
       "4                  False  26995  "
      ]
     },
     "execution_count": 52,
     "metadata": {},
     "output_type": "execute_result"
    }
   ],
   "source": [
    "DataForML['price']=adverts['price']\n",
    "DataForML.head()"
   ]
  },
  {
   "cell_type": "code",
   "execution_count": 53,
   "id": "4888d88c",
   "metadata": {},
   "outputs": [
    {
     "data": {
      "text/plain": [
       "mileage                      0\n",
       "year_of_registration     32017\n",
       "standard_model               0\n",
       "standard_make                0\n",
       "vehicle_condition            0\n",
       "body_type                  795\n",
       "fuel_type                  566\n",
       "age                      32017\n",
       "standard_colour           5050\n",
       "crossover_car_and_van        0\n",
       "price                        0\n",
       "dtype: int64"
      ]
     },
     "execution_count": 53,
     "metadata": {},
     "output_type": "execute_result"
    }
   ],
   "source": [
    "DataForML.isnull().sum()"
   ]
  },
  {
   "cell_type": "code",
   "execution_count": 54,
   "id": "bb252b0e",
   "metadata": {},
   "outputs": [],
   "source": [
    "from sklearn.preprocessing import OrdinalEncoder\n",
    "import pandas as pd\n",
    "\n",
    "encoder = OrdinalEncoder()\n",
    "\n",
    "# fit the encoder to the data\n",
    "encoder.fit(DataForML[['standard_model','standard_make','body_type','fuel_type','standard_colour']])\n",
    "\n",
    "# transform the data\n",
    "DataForML_Numeric = encoder.transform(DataForML[['standard_model','standard_make','body_type','fuel_type','standard_colour']])"
   ]
  },
  {
   "cell_type": "code",
   "execution_count": 55,
   "id": "25c29e02",
   "metadata": {},
   "outputs": [],
   "source": [
    "DataForML[['standard_model','standard_make','body_type','fuel_type','standard_colour',]] = DataForML_Numeric"
   ]
  },
  {
   "cell_type": "code",
   "execution_count": 56,
   "id": "25a8e9d0",
   "metadata": {},
   "outputs": [
    {
     "data": {
      "text/html": [
       "<div>\n",
       "<style scoped>\n",
       "    .dataframe tbody tr th:only-of-type {\n",
       "        vertical-align: middle;\n",
       "    }\n",
       "\n",
       "    .dataframe tbody tr th {\n",
       "        vertical-align: top;\n",
       "    }\n",
       "\n",
       "    .dataframe thead th {\n",
       "        text-align: right;\n",
       "    }\n",
       "</style>\n",
       "<table border=\"1\" class=\"dataframe\">\n",
       "  <thead>\n",
       "    <tr style=\"text-align: right;\">\n",
       "      <th></th>\n",
       "      <th>mileage</th>\n",
       "      <th>year_of_registration</th>\n",
       "      <th>standard_model</th>\n",
       "      <th>standard_make</th>\n",
       "      <th>vehicle_condition</th>\n",
       "      <th>body_type</th>\n",
       "      <th>fuel_type</th>\n",
       "      <th>age</th>\n",
       "      <th>standard_colour</th>\n",
       "      <th>crossover_car_and_van</th>\n",
       "      <th>price</th>\n",
       "    </tr>\n",
       "  </thead>\n",
       "  <tbody>\n",
       "    <tr>\n",
       "      <th>0</th>\n",
       "      <td>0.0</td>\n",
       "      <td>NaN</td>\n",
       "      <td>1026.0</td>\n",
       "      <td>101.0</td>\n",
       "      <td>NEW</td>\n",
       "      <td>13.0</td>\n",
       "      <td>8.0</td>\n",
       "      <td>NaN</td>\n",
       "      <td>8.0</td>\n",
       "      <td>False</td>\n",
       "      <td>73970</td>\n",
       "    </tr>\n",
       "    <tr>\n",
       "      <th>1</th>\n",
       "      <td>108230.0</td>\n",
       "      <td>2011.0</td>\n",
       "      <td>1029.0</td>\n",
       "      <td>44.0</td>\n",
       "      <td>USED</td>\n",
       "      <td>14.0</td>\n",
       "      <td>1.0</td>\n",
       "      <td>10.0</td>\n",
       "      <td>2.0</td>\n",
       "      <td>False</td>\n",
       "      <td>7000</td>\n",
       "    </tr>\n",
       "    <tr>\n",
       "      <th>2</th>\n",
       "      <td>7800.0</td>\n",
       "      <td>2017.0</td>\n",
       "      <td>1046.0</td>\n",
       "      <td>86.0</td>\n",
       "      <td>USED</td>\n",
       "      <td>13.0</td>\n",
       "      <td>6.0</td>\n",
       "      <td>4.0</td>\n",
       "      <td>8.0</td>\n",
       "      <td>False</td>\n",
       "      <td>14000</td>\n",
       "    </tr>\n",
       "    <tr>\n",
       "      <th>3</th>\n",
       "      <td>45000.0</td>\n",
       "      <td>2016.0</td>\n",
       "      <td>643.0</td>\n",
       "      <td>99.0</td>\n",
       "      <td>USED</td>\n",
       "      <td>7.0</td>\n",
       "      <td>1.0</td>\n",
       "      <td>5.0</td>\n",
       "      <td>4.0</td>\n",
       "      <td>False</td>\n",
       "      <td>7995</td>\n",
       "    </tr>\n",
       "    <tr>\n",
       "      <th>4</th>\n",
       "      <td>64000.0</td>\n",
       "      <td>2015.0</td>\n",
       "      <td>767.0</td>\n",
       "      <td>51.0</td>\n",
       "      <td>USED</td>\n",
       "      <td>13.0</td>\n",
       "      <td>1.0</td>\n",
       "      <td>6.0</td>\n",
       "      <td>8.0</td>\n",
       "      <td>False</td>\n",
       "      <td>26995</td>\n",
       "    </tr>\n",
       "  </tbody>\n",
       "</table>\n",
       "</div>"
      ],
      "text/plain": [
       "    mileage  year_of_registration  standard_model  standard_make  \\\n",
       "0       0.0                   NaN          1026.0          101.0   \n",
       "1  108230.0                2011.0          1029.0           44.0   \n",
       "2    7800.0                2017.0          1046.0           86.0   \n",
       "3   45000.0                2016.0           643.0           99.0   \n",
       "4   64000.0                2015.0           767.0           51.0   \n",
       "\n",
       "  vehicle_condition  body_type  fuel_type   age  standard_colour  \\\n",
       "0               NEW       13.0        8.0   NaN              8.0   \n",
       "1              USED       14.0        1.0  10.0              2.0   \n",
       "2              USED       13.0        6.0   4.0              8.0   \n",
       "3              USED        7.0        1.0   5.0              4.0   \n",
       "4              USED       13.0        1.0   6.0              8.0   \n",
       "\n",
       "   crossover_car_and_van  price  \n",
       "0                  False  73970  \n",
       "1                  False   7000  \n",
       "2                  False  14000  \n",
       "3                  False   7995  \n",
       "4                  False  26995  "
      ]
     },
     "execution_count": 56,
     "metadata": {},
     "output_type": "execute_result"
    }
   ],
   "source": [
    "DataForML.head()"
   ]
  },
  {
   "cell_type": "code",
   "execution_count": 57,
   "id": "45516e02",
   "metadata": {},
   "outputs": [],
   "source": [
    "DataForML['vehicle_condition']=DataForML['vehicle_condition'].map({\"USED\":0, \"NEW\":1})"
   ]
  },
  {
   "cell_type": "code",
   "execution_count": 58,
   "id": "70222387",
   "metadata": {},
   "outputs": [],
   "source": [
    "DataForML['crossover_car_and_van']=DataForML['crossover_car_and_van'].map({False:0, True:1})"
   ]
  },
  {
   "cell_type": "code",
   "execution_count": 59,
   "id": "d622efc6",
   "metadata": {},
   "outputs": [
    {
     "data": {
      "text/plain": [
       "mileage                      0\n",
       "year_of_registration     32017\n",
       "standard_model               0\n",
       "standard_make                0\n",
       "vehicle_condition            0\n",
       "body_type                  795\n",
       "fuel_type                  566\n",
       "age                      32017\n",
       "standard_colour           5050\n",
       "crossover_car_and_van        0\n",
       "price                        0\n",
       "dtype: int64"
      ]
     },
     "execution_count": 59,
     "metadata": {},
     "output_type": "execute_result"
    }
   ],
   "source": [
    "DataForML.isnull().sum()"
   ]
  },
  {
   "cell_type": "code",
   "execution_count": 60,
   "id": "2bbc9ca7",
   "metadata": {},
   "outputs": [
    {
     "data": {
      "text/plain": [
       "((277652, 8), (277652,))"
      ]
     },
     "execution_count": 60,
     "metadata": {},
     "output_type": "execute_result"
    }
   ],
   "source": [
    "# Separate Target Variable and Predictor Variables\n",
    "TargetVariable='price'\n",
    "Predictors=['mileage', 'year_of_registration', 'standard_model', 'standard_make', 'vehicle_condition', 'body_type','fuel_type', 'age']\n",
    "\n",
    "X=DataForML[Predictors].values\n",
    "y=DataForML[TargetVariable].values\n",
    "from sklearn.model_selection import train_test_split\n",
    "X_train, X_test, y_train, y_test = train_test_split(X, y, test_size=0.3, random_state=1000)\n",
    "X_train.shape, y_train.shape"
   ]
  },
  {
   "cell_type": "code",
   "execution_count": 61,
   "id": "de83aa63",
   "metadata": {},
   "outputs": [
    {
     "data": {
      "text/plain": [
       "((277652, 8), (277652,))"
      ]
     },
     "execution_count": 61,
     "metadata": {},
     "output_type": "execute_result"
    }
   ],
   "source": [
    "### Sandardization of data ###\n",
    "from sklearn.preprocessing import StandardScaler, MinMaxScaler\n",
    "# Choose either standardization or Normalization\n",
    "# On this data Min Max Normalization produced better results\n",
    "\n",
    "# Choose between standardization and MinMAx normalization\n",
    "#PredictorScaler=StandardScaler()\n",
    "PredictorScaler=MinMaxScaler()\n",
    "\n",
    "# Storing the fit object for later reference\n",
    "PredictorScalerFit=PredictorScaler.fit(X)\n",
    "\n",
    "# Generating the standardized values of X\n",
    "X=PredictorScalerFit.transform(X)\n",
    "\n",
    "# Split the data into training and testing set\n",
    "from sklearn.model_selection import train_test_split\n",
    "X_train, X_test, y_train, y_test = train_test_split(X, y, test_size=0.3, random_state=1000)\n",
    "X_train.shape, y_train.shape"
   ]
  },
  {
   "cell_type": "code",
   "execution_count": 62,
   "id": "716a80cb",
   "metadata": {},
   "outputs": [
    {
     "data": {
      "text/html": [
       "<div>\n",
       "<style scoped>\n",
       "    .dataframe tbody tr th:only-of-type {\n",
       "        vertical-align: middle;\n",
       "    }\n",
       "\n",
       "    .dataframe tbody tr th {\n",
       "        vertical-align: top;\n",
       "    }\n",
       "\n",
       "    .dataframe thead th {\n",
       "        text-align: right;\n",
       "    }\n",
       "</style>\n",
       "<table border=\"1\" class=\"dataframe\">\n",
       "  <thead>\n",
       "    <tr style=\"text-align: right;\">\n",
       "      <th></th>\n",
       "      <th>price</th>\n",
       "      <th>mileage</th>\n",
       "      <th>year_of_registration</th>\n",
       "    </tr>\n",
       "  </thead>\n",
       "  <tbody>\n",
       "    <tr>\n",
       "      <th>price</th>\n",
       "      <td>1.000000</td>\n",
       "      <td>-0.499824</td>\n",
       "      <td>0.247044</td>\n",
       "    </tr>\n",
       "    <tr>\n",
       "      <th>mileage</th>\n",
       "      <td>-0.499824</td>\n",
       "      <td>1.000000</td>\n",
       "      <td>-0.379656</td>\n",
       "    </tr>\n",
       "    <tr>\n",
       "      <th>year_of_registration</th>\n",
       "      <td>0.247044</td>\n",
       "      <td>-0.379656</td>\n",
       "      <td>1.000000</td>\n",
       "    </tr>\n",
       "  </tbody>\n",
       "</table>\n",
       "</div>"
      ],
      "text/plain": [
       "                         price   mileage  year_of_registration\n",
       "price                 1.000000 -0.499824              0.247044\n",
       "mileage              -0.499824  1.000000             -0.379656\n",
       "year_of_registration  0.247044 -0.379656              1.000000"
      ]
     },
     "execution_count": 62,
     "metadata": {},
     "output_type": "execute_result"
    }
   ],
   "source": [
    "# Calculating correlation matrix\n",
    "ContinuousCols=['price','mileage', 'year_of_registration']\n",
    "\n",
    "# Creating the correlation matrix\n",
    "CorrelationData=adverts[ContinuousCols].corr()\n",
    "CorrelationData"
   ]
  },
  {
   "cell_type": "markdown",
   "id": "a06a2835",
   "metadata": {},
   "source": [
    "#### Selecting final predictors for Machine Learning"
   ]
  },
  {
   "cell_type": "code",
   "execution_count": 63,
   "id": "e8b0bd13",
   "metadata": {},
   "outputs": [
    {
     "name": "stdout",
     "output_type": "stream",
     "text": [
      "(277652, 8)\n",
      "(277652,)\n",
      "(118995, 8)\n",
      "(118995,)\n"
     ]
    }
   ],
   "source": [
    "# Sanity check for the sampled data\n",
    "print(X_train.shape)\n",
    "print(y_train.shape)\n",
    "print(X_test.shape)\n",
    "print(y_test.shape)"
   ]
  },
  {
   "cell_type": "code",
   "execution_count": 64,
   "id": "4f80cb6f",
   "metadata": {},
   "outputs": [
    {
     "data": {
      "text/plain": [
       "array([[2.07250000e-02, 9.99020568e-01, 2.96022202e-02, ...,\n",
       "        8.66666667e-01, 7.50000000e-01, 9.79431929e-04],\n",
       "       [6.00000000e-01, 9.84329089e-01, 3.55226642e-01, ...,\n",
       "        8.66666667e-01, 1.25000000e-01, 1.56709109e-02],\n",
       "       [3.72355000e-01, 9.91185113e-01, 6.79000925e-01, ...,\n",
       "        8.66666667e-01, 1.25000000e-01, 8.81488737e-03],\n",
       "       ...,\n",
       "       [2.67270000e-01, 9.97061704e-01, 2.23866790e-01, ...,\n",
       "        9.33333333e-01, 1.25000000e-01, 2.93829579e-03],\n",
       "       [3.35500000e-03, 1.00000000e+00, 3.47826087e-01, ...,\n",
       "        8.66666667e-01, 1.25000000e-01, 0.00000000e+00],\n",
       "       [2.70000000e-01, 9.89226249e-01, 4.83811286e-01, ...,\n",
       "        4.66666667e-01, 7.50000000e-01, 1.07737512e-02]])"
      ]
     },
     "execution_count": 64,
     "metadata": {},
     "output_type": "execute_result"
    }
   ],
   "source": [
    "X_test"
   ]
  },
  {
   "cell_type": "code",
   "execution_count": 65,
   "id": "a174c028",
   "metadata": {},
   "outputs": [
    {
     "data": {
      "text/plain": [
       "['mileage',\n",
       " 'year_of_registration',\n",
       " 'standard_model',\n",
       " 'standard_make',\n",
       " 'vehicle_condition',\n",
       " 'body_type',\n",
       " 'fuel_type',\n",
       " 'age']"
      ]
     },
     "execution_count": 65,
     "metadata": {},
     "output_type": "execute_result"
    }
   ],
   "source": [
    "Predictors"
   ]
  },
  {
   "cell_type": "markdown",
   "id": "6bd1742b",
   "metadata": {},
   "source": [
    "#### Multiple Linear Regression"
   ]
  },
  {
   "cell_type": "code",
   "execution_count": 66,
   "id": "6fe2fc44",
   "metadata": {},
   "outputs": [
    {
     "name": "stdout",
     "output_type": "stream",
     "text": [
      "LinearRegression()\n"
     ]
    },
    {
     "ename": "ValueError",
     "evalue": "Input X contains NaN.\nLinearRegression does not accept missing values encoded as NaN natively. For supervised learning, you might want to consider sklearn.ensemble.HistGradientBoostingClassifier and Regressor which accept missing values encoded as NaNs natively. Alternatively, it is possible to preprocess the data, for instance by using an imputer transformer in a pipeline or drop samples with missing values. See https://scikit-learn.org/stable/modules/impute.html You can find a list of all estimators that handle NaN values at the following page: https://scikit-learn.org/stable/modules/impute.html#estimators-that-handle-nan-values",
     "output_type": "error",
     "traceback": [
      "\u001b[1;31m---------------------------------------------------------------------------\u001b[0m",
      "\u001b[1;31mValueError\u001b[0m                                Traceback (most recent call last)",
      "\u001b[1;32m<ipython-input-66-9a27f3db0684>\u001b[0m in \u001b[0;36m<module>\u001b[1;34m\u001b[0m\n\u001b[0;32m      7\u001b[0m \u001b[1;33m\u001b[0m\u001b[0m\n\u001b[0;32m      8\u001b[0m \u001b[1;31m# Creating the model on Training Data\u001b[0m\u001b[1;33m\u001b[0m\u001b[1;33m\u001b[0m\u001b[1;33m\u001b[0m\u001b[0m\n\u001b[1;32m----> 9\u001b[1;33m \u001b[0mLREG\u001b[0m\u001b[1;33m=\u001b[0m\u001b[0mRegModel\u001b[0m\u001b[1;33m.\u001b[0m\u001b[0mfit\u001b[0m\u001b[1;33m(\u001b[0m\u001b[0mX_train\u001b[0m\u001b[1;33m,\u001b[0m\u001b[0my_train\u001b[0m\u001b[1;33m)\u001b[0m\u001b[1;33m\u001b[0m\u001b[1;33m\u001b[0m\u001b[0m\n\u001b[0m\u001b[0;32m     10\u001b[0m \u001b[0mprediction\u001b[0m\u001b[1;33m=\u001b[0m\u001b[0mLREG\u001b[0m\u001b[1;33m.\u001b[0m\u001b[0mpredict\u001b[0m\u001b[1;33m(\u001b[0m\u001b[0mX_test\u001b[0m\u001b[1;33m)\u001b[0m\u001b[1;33m\u001b[0m\u001b[1;33m\u001b[0m\u001b[0m\n\u001b[0;32m     11\u001b[0m \u001b[1;33m\u001b[0m\u001b[0m\n",
      "\u001b[1;32m~\\AppData\\Roaming\\Python\\Python38\\site-packages\\sklearn\\linear_model\\_base.py\u001b[0m in \u001b[0;36mfit\u001b[1;34m(self, X, y, sample_weight)\u001b[0m\n\u001b[0;32m    647\u001b[0m         \u001b[0maccept_sparse\u001b[0m \u001b[1;33m=\u001b[0m \u001b[1;32mFalse\u001b[0m \u001b[1;32mif\u001b[0m \u001b[0mself\u001b[0m\u001b[1;33m.\u001b[0m\u001b[0mpositive\u001b[0m \u001b[1;32melse\u001b[0m \u001b[1;33m[\u001b[0m\u001b[1;34m\"csr\"\u001b[0m\u001b[1;33m,\u001b[0m \u001b[1;34m\"csc\"\u001b[0m\u001b[1;33m,\u001b[0m \u001b[1;34m\"coo\"\u001b[0m\u001b[1;33m]\u001b[0m\u001b[1;33m\u001b[0m\u001b[1;33m\u001b[0m\u001b[0m\n\u001b[0;32m    648\u001b[0m \u001b[1;33m\u001b[0m\u001b[0m\n\u001b[1;32m--> 649\u001b[1;33m         X, y = self._validate_data(\n\u001b[0m\u001b[0;32m    650\u001b[0m             \u001b[0mX\u001b[0m\u001b[1;33m,\u001b[0m \u001b[0my\u001b[0m\u001b[1;33m,\u001b[0m \u001b[0maccept_sparse\u001b[0m\u001b[1;33m=\u001b[0m\u001b[0maccept_sparse\u001b[0m\u001b[1;33m,\u001b[0m \u001b[0my_numeric\u001b[0m\u001b[1;33m=\u001b[0m\u001b[1;32mTrue\u001b[0m\u001b[1;33m,\u001b[0m \u001b[0mmulti_output\u001b[0m\u001b[1;33m=\u001b[0m\u001b[1;32mTrue\u001b[0m\u001b[1;33m\u001b[0m\u001b[1;33m\u001b[0m\u001b[0m\n\u001b[0;32m    651\u001b[0m         )\n",
      "\u001b[1;32m~\\AppData\\Roaming\\Python\\Python38\\site-packages\\sklearn\\base.py\u001b[0m in \u001b[0;36m_validate_data\u001b[1;34m(self, X, y, reset, validate_separately, **check_params)\u001b[0m\n\u001b[0;32m    552\u001b[0m                 \u001b[0my\u001b[0m \u001b[1;33m=\u001b[0m \u001b[0mcheck_array\u001b[0m\u001b[1;33m(\u001b[0m\u001b[0my\u001b[0m\u001b[1;33m,\u001b[0m \u001b[0minput_name\u001b[0m\u001b[1;33m=\u001b[0m\u001b[1;34m\"y\"\u001b[0m\u001b[1;33m,\u001b[0m \u001b[1;33m**\u001b[0m\u001b[0mcheck_y_params\u001b[0m\u001b[1;33m)\u001b[0m\u001b[1;33m\u001b[0m\u001b[1;33m\u001b[0m\u001b[0m\n\u001b[0;32m    553\u001b[0m             \u001b[1;32melse\u001b[0m\u001b[1;33m:\u001b[0m\u001b[1;33m\u001b[0m\u001b[1;33m\u001b[0m\u001b[0m\n\u001b[1;32m--> 554\u001b[1;33m                 \u001b[0mX\u001b[0m\u001b[1;33m,\u001b[0m \u001b[0my\u001b[0m \u001b[1;33m=\u001b[0m \u001b[0mcheck_X_y\u001b[0m\u001b[1;33m(\u001b[0m\u001b[0mX\u001b[0m\u001b[1;33m,\u001b[0m \u001b[0my\u001b[0m\u001b[1;33m,\u001b[0m \u001b[1;33m**\u001b[0m\u001b[0mcheck_params\u001b[0m\u001b[1;33m)\u001b[0m\u001b[1;33m\u001b[0m\u001b[1;33m\u001b[0m\u001b[0m\n\u001b[0m\u001b[0;32m    555\u001b[0m             \u001b[0mout\u001b[0m \u001b[1;33m=\u001b[0m \u001b[0mX\u001b[0m\u001b[1;33m,\u001b[0m \u001b[0my\u001b[0m\u001b[1;33m\u001b[0m\u001b[1;33m\u001b[0m\u001b[0m\n\u001b[0;32m    556\u001b[0m \u001b[1;33m\u001b[0m\u001b[0m\n",
      "\u001b[1;32m~\\AppData\\Roaming\\Python\\Python38\\site-packages\\sklearn\\utils\\validation.py\u001b[0m in \u001b[0;36mcheck_X_y\u001b[1;34m(X, y, accept_sparse, accept_large_sparse, dtype, order, copy, force_all_finite, ensure_2d, allow_nd, multi_output, ensure_min_samples, ensure_min_features, y_numeric, estimator)\u001b[0m\n\u001b[0;32m   1102\u001b[0m         )\n\u001b[0;32m   1103\u001b[0m \u001b[1;33m\u001b[0m\u001b[0m\n\u001b[1;32m-> 1104\u001b[1;33m     X = check_array(\n\u001b[0m\u001b[0;32m   1105\u001b[0m         \u001b[0mX\u001b[0m\u001b[1;33m,\u001b[0m\u001b[1;33m\u001b[0m\u001b[1;33m\u001b[0m\u001b[0m\n\u001b[0;32m   1106\u001b[0m         \u001b[0maccept_sparse\u001b[0m\u001b[1;33m=\u001b[0m\u001b[0maccept_sparse\u001b[0m\u001b[1;33m,\u001b[0m\u001b[1;33m\u001b[0m\u001b[1;33m\u001b[0m\u001b[0m\n",
      "\u001b[1;32m~\\AppData\\Roaming\\Python\\Python38\\site-packages\\sklearn\\utils\\validation.py\u001b[0m in \u001b[0;36mcheck_array\u001b[1;34m(array, accept_sparse, accept_large_sparse, dtype, order, copy, force_all_finite, ensure_2d, allow_nd, ensure_min_samples, ensure_min_features, estimator, input_name)\u001b[0m\n\u001b[0;32m    917\u001b[0m \u001b[1;33m\u001b[0m\u001b[0m\n\u001b[0;32m    918\u001b[0m         \u001b[1;32mif\u001b[0m \u001b[0mforce_all_finite\u001b[0m\u001b[1;33m:\u001b[0m\u001b[1;33m\u001b[0m\u001b[1;33m\u001b[0m\u001b[0m\n\u001b[1;32m--> 919\u001b[1;33m             _assert_all_finite(\n\u001b[0m\u001b[0;32m    920\u001b[0m                 \u001b[0marray\u001b[0m\u001b[1;33m,\u001b[0m\u001b[1;33m\u001b[0m\u001b[1;33m\u001b[0m\u001b[0m\n\u001b[0;32m    921\u001b[0m                 \u001b[0minput_name\u001b[0m\u001b[1;33m=\u001b[0m\u001b[0minput_name\u001b[0m\u001b[1;33m,\u001b[0m\u001b[1;33m\u001b[0m\u001b[1;33m\u001b[0m\u001b[0m\n",
      "\u001b[1;32m~\\AppData\\Roaming\\Python\\Python38\\site-packages\\sklearn\\utils\\validation.py\u001b[0m in \u001b[0;36m_assert_all_finite\u001b[1;34m(X, allow_nan, msg_dtype, estimator_name, input_name)\u001b[0m\n\u001b[0;32m    159\u001b[0m                 \u001b[1;34m\"#estimators-that-handle-nan-values\"\u001b[0m\u001b[1;33m\u001b[0m\u001b[1;33m\u001b[0m\u001b[0m\n\u001b[0;32m    160\u001b[0m             )\n\u001b[1;32m--> 161\u001b[1;33m         \u001b[1;32mraise\u001b[0m \u001b[0mValueError\u001b[0m\u001b[1;33m(\u001b[0m\u001b[0mmsg_err\u001b[0m\u001b[1;33m)\u001b[0m\u001b[1;33m\u001b[0m\u001b[1;33m\u001b[0m\u001b[0m\n\u001b[0m\u001b[0;32m    162\u001b[0m \u001b[1;33m\u001b[0m\u001b[0m\n\u001b[0;32m    163\u001b[0m \u001b[1;33m\u001b[0m\u001b[0m\n",
      "\u001b[1;31mValueError\u001b[0m: Input X contains NaN.\nLinearRegression does not accept missing values encoded as NaN natively. For supervised learning, you might want to consider sklearn.ensemble.HistGradientBoostingClassifier and Regressor which accept missing values encoded as NaNs natively. Alternatively, it is possible to preprocess the data, for instance by using an imputer transformer in a pipeline or drop samples with missing values. See https://scikit-learn.org/stable/modules/impute.html You can find a list of all estimators that handle NaN values at the following page: https://scikit-learn.org/stable/modules/impute.html#estimators-that-handle-nan-values"
     ]
    }
   ],
   "source": [
    "# Multiple Linear Regression\n",
    "from sklearn.linear_model import LinearRegression\n",
    "RegModel = LinearRegression()\n",
    "\n",
    "# Printing all the parameters of Linear regression\n",
    "print(RegModel)\n",
    "\n",
    "# Creating the model on Training Data\n",
    "LREG=RegModel.fit(X_train,y_train)\n",
    "prediction=LREG.predict(X_test)\n",
    "\n",
    "#Taking the standardized values to original scale\n",
    "\n",
    "\n",
    "from sklearn import metrics\n",
    "#Measuring Goodness of fit in Training data\n",
    "#print('R2 Value:',metrics.r2_score(y_train, LREG.predict(X_train)))\n",
    "\n",
    "print('R2 Value:',metrics.r2_score(y_test, LREG.predict(X_test)))"
   ]
  },
  {
   "cell_type": "code",
   "execution_count": 205,
   "id": "35271829",
   "metadata": {},
   "outputs": [
    {
     "name": "stdout",
     "output_type": "stream",
     "text": [
      "\n",
      "##### Model Validation and Accuracy Calculations ##########\n",
      "   price  Predictedprice\n",
      "0  16995         18861.0\n",
      "1   4000          3640.0\n",
      "2   6980         12219.0\n",
      "3   7995         14700.0\n",
      "4  32750         23829.0\n",
      "Mean Accuracy on test data: 40.43084852736895\n",
      "Median Accuracy on test data: 61.348822200709904\n",
      "\n",
      "Accuracy values for 10-fold Cross Validation:\n",
      " [40.67799608 40.27975459 40.41143213 40.60288347 40.20633509 40.37351876\n",
      " 40.38046027 39.62680722 40.75794778 40.4196656 ]\n",
      "\n",
      "Final Average Accuracy of the model: 40.37\n"
     ]
    }
   ],
   "source": [
    "###########################################################################\n",
    "print('\\n##### Model Validation and Accuracy Calculations ##########')\n",
    "# Printing some sample values of prediction\n",
    "TestingDataResults=pd.DataFrame(data=X_test, columns=Predictors)\n",
    "TestingDataResults[TargetVariable]=y_test\n",
    "TestingDataResults[('Predicted'+TargetVariable)]=np.round(prediction)\n",
    "\n",
    "\n",
    "# Printing sample prediction values\n",
    "print(TestingDataResults[[TargetVariable,'Predicted'+TargetVariable]].head())\n",
    "\n",
    "# Calculating the error for each row\n",
    "TestingDataResults['APE']=100 * ((abs(\n",
    "    TestingDataResults['price']-TestingDataResults['Predicted'+TargetVariable]))/TestingDataResults['price'])\n",
    "\n",
    "MAPE=np.mean(TestingDataResults['APE'])\n",
    "MedianMAPE=np.median(TestingDataResults['APE'])\n",
    "\n",
    "Accuracy =100 - MAPE\n",
    "MedianAccuracy=100- MedianMAPE\n",
    "print('Mean Accuracy on test data:', Accuracy) # Can be negative sometimes due to outlier\n",
    "print('Median Accuracy on test data:', MedianAccuracy)\n",
    "\n",
    "# Defining a custom function to calculate accuracy\n",
    "# Make sure there are no zeros in the Target variable if you are using MAPE\n",
    "def Accuracy_Score(orig,pred):\n",
    "    MAPE = np.mean(100 * (np.abs(orig-pred)/orig))\n",
    "    #print('#'*70,'Accuracy:', 100-MAPE)\n",
    "    return(100-MAPE)\n",
    "\n",
    "# Custom Scoring MAPE calculation\n",
    "from sklearn.metrics import make_scorer\n",
    "custom_Scoring=make_scorer(Accuracy_Score, greater_is_better=True)\n",
    "\n",
    "# Importing cross validation function from sklearn\n",
    "from sklearn.model_selection import cross_val_score\n",
    "\n",
    "# Running 10-Fold Cross validation on a given algorithm\n",
    "# Passing full data X and y because the K-fold will split the data and automatically choose train/test\n",
    "Accuracy_Values=cross_val_score(RegModel, X , y, cv=10, scoring=custom_Scoring)\n",
    "print('\\nAccuracy values for 10-fold Cross Validation:\\n',Accuracy_Values)\n",
    "print('\\nFinal Average Accuracy of the model:', round(Accuracy_Values.mean(),2))"
   ]
  },
  {
   "cell_type": "code",
   "execution_count": 206,
   "id": "4a76012f",
   "metadata": {},
   "outputs": [],
   "source": [
    "#Installing the required library for plotting the decision tree\n",
    "# Make sure to run all three commands\n",
    "# 1. Open anaconda Prompt\n",
    "# pip install graphviz\n",
    "# conda install graphviz\n",
    "#pip install pydotplus"
   ]
  },
  {
   "cell_type": "code",
   "execution_count": 207,
   "id": "d5d1e560",
   "metadata": {},
   "outputs": [],
   "source": [
    "# Adding graphviz path to the PATH env variable\n",
    "# Try to find \"dot.exe\" in your system and provide the path of that folder\n",
    "import os\n",
    "os.environ[\"PATH\"] += os.pathsep + 'C:\\\\Users\\\\USER\\\\Documents\\\\anaconda\\\\pkgs\\\\graphviz-2.50.0-hdb8b0d4_0\\\\Library\\\\bin\\\\dot'"
   ]
  },
  {
   "cell_type": "code",
   "execution_count": 208,
   "id": "714212c2",
   "metadata": {},
   "outputs": [],
   "source": [
    "from IPython.display import Image\n",
    "from sklearn import tree\n",
    "import pydotplus\n",
    "\n",
    "#Create DOT data\n",
    "#dot_data = tree.export_graphviz(RegModel, out_file=None, \n",
    "                                #feature_names=Predictors, class_names=TargetVariable)\n",
    "\n",
    "# printing the rules\n",
    "#print(dot_data)\n",
    "\n",
    "# Draw graph\n",
    "#graph = pydotplus.graph_from_dot_data(dot_data)\n",
    "\n",
    "# Show graph\n",
    "#Image(graph.create_png(), width=2000,height=2000)\n",
    "# Double click on the graph to zoom in"
   ]
  },
  {
   "cell_type": "markdown",
   "id": "1ef4e99f",
   "metadata": {},
   "source": [
    "#### Random Forest"
   ]
  },
  {
   "cell_type": "code",
   "execution_count": 209,
   "id": "3251c0db",
   "metadata": {},
   "outputs": [
    {
     "name": "stdout",
     "output_type": "stream",
     "text": [
      "RandomForestRegressor()\n",
      "R2 Value: 0.9342935546490653\n",
      "\n",
      "##### Model Validation and Accuracy Calculations ##########\n",
      "   price  Predictedprice\n",
      "0  16995         15481.0\n",
      "1   4000          5235.0\n",
      "2   6980          6029.0\n",
      "3   7995          7665.0\n",
      "4  32750         31146.0\n",
      "Mean Accuracy on test data: 85.56696472307145\n",
      "Median Accuracy on test data: 90.8868778280543\n",
      "\n",
      "Accuracy values for 10-fold Cross Validation:\n",
      " [85.6951258  85.50088018 85.83758355 85.6852726  85.76556274 85.88948903\n",
      " 85.84117775 85.59702884 85.52530939 85.84558152]\n",
      "\n",
      "Final Average Accuracy of the model: 85.72\n"
     ]
    },
    {
     "data": {
      "image/png": "[encoded data removed]",
      "text/plain": [
       "<Figure size 432x288 with 1 Axes>"
      ]
     },
     "metadata": {
      "needs_background": "light"
     },
     "output_type": "display_data"
    }
   ],
   "source": [
    "# Random Forest (Bagging of multiple Decision Trees)\n",
    "from sklearn.ensemble import RandomForestRegressor\n",
    "RegModel = RandomForestRegressor(n_estimators=100,criterion='mse')\n",
    "# Good range for max_depth: 2-10 and n_estimators: 100-1000\n",
    "\n",
    "# Printing all the parameters of Random Forest\n",
    "print(RegModel)\n",
    "\n",
    "# Creating the model on Training Data\n",
    "RF=RegModel.fit(X_train,y_train)\n",
    "prediction=RF.predict(X_test)\n",
    "\n",
    "from sklearn import metrics\n",
    "print('R2 Value:',metrics.r2_score(y_test, RF.predict(X_test)))\n",
    "\n",
    "# Measuring Goodness of fit in Training data\n",
    "#print('R2 Value:',metrics.r2_score(y_train, RF.predict(X_train)))\n",
    "\n",
    "# Plotting the feature importance for Top 10 most important columns\n",
    "%matplotlib inline\n",
    "feature_importances = pd.Series(RF.feature_importances_, index=Predictors)\n",
    "feature_importances.nlargest(10).plot(kind='barh')\n",
    "\n",
    "###########################################################################\n",
    "print('\\n##### Model Validation and Accuracy Calculations ##########')\n",
    "\n",
    "# Printing some sample values of prediction\n",
    "TestingDataResults=pd.DataFrame(data=X_test, columns=Predictors)\n",
    "TestingDataResults[TargetVariable]=y_test\n",
    "TestingDataResults[('Predicted'+TargetVariable)]=np.round(prediction)\n",
    "\n",
    "# Printing sample prediction values\n",
    "print(TestingDataResults[[TargetVariable,'Predicted'+TargetVariable]].head())\n",
    "\n",
    "# Calculating the error for each row\n",
    "TestingDataResults['APE']=100 * ((abs(\n",
    "  TestingDataResults['price']-TestingDataResults['Predicted'+TargetVariable]))/TestingDataResults['price'])\n",
    "\n",
    "MAPE=np.mean(TestingDataResults['APE'])\n",
    "MedianMAPE=np.median(TestingDataResults['APE'])\n",
    "\n",
    "Accuracy =100 - MAPE\n",
    "MedianAccuracy=100- MedianMAPE\n",
    "print('Mean Accuracy on test data:', Accuracy) # Can be negative sometimes due to outlier\n",
    "print('Median Accuracy on test data:', MedianAccuracy)\n",
    "\n",
    "\n",
    "# Defining a custom function to calculate accuracy\n",
    "# Make sure there are no zeros in the Target variable if you are using MAPE\n",
    "def Accuracy_Score(orig,pred):\n",
    "    MAPE = np.mean(100 * (np.abs(orig-pred)/orig))\n",
    "    #print('#'*70,'Accuracy:', 100-MAPE)\n",
    "    return(100-MAPE)\n",
    "\n",
    "# Custom Scoring MAPE calculation\n",
    "from sklearn.metrics import make_scorer\n",
    "custom_Scoring=make_scorer(Accuracy_Score, greater_is_better=True)\n",
    "\n",
    "# Importing cross validation function from sklearn\n",
    "from sklearn.model_selection import cross_val_score\n",
    "\n",
    "# Running 10-Fold Cross validation on a given algorithm\n",
    "# Passing full data X and y because the K-fold will split the data and automatically choose train/test\n",
    "Accuracy_Values=cross_val_score(RegModel, X , y, cv=10, scoring=custom_Scoring)\n",
    "print('\\nAccuracy values for 10-fold Cross Validation:\\n',Accuracy_Values)\n",
    "print('\\nFinal Average Accuracy of the model:', round(Accuracy_Values.mean(),2))"
   ]
  },
  {
   "cell_type": "code",
   "execution_count": 210,
   "id": "fe6a1a84",
   "metadata": {},
   "outputs": [],
   "source": [
    "residuals = y_test - prediction"
   ]
  },
  {
   "cell_type": "code",
   "execution_count": 211,
   "id": "3634d889",
   "metadata": {},
   "outputs": [
    {
     "data": {
      "image/png": "[encoded data removed]",
      "text/plain": [
       "<Figure size 432x288 with 1 Axes>"
      ]
     },
     "metadata": {
      "needs_background": "light"
     },
     "output_type": "display_data"
    }
   ],
   "source": [
    "import seaborn as sns\n",
    "import matplotlib.pyplot as plt\n",
    "\n",
    "# calculate the prediction error\n",
    "prediction_error = y_test - prediction\n",
    "sns.scatterplot(x=prediction, y=prediction_error, color='blue')\n",
    "sns.regplot(x=prediction, y=prediction_error, color='red', scatter=False)\n",
    "plt.hlines(y=0, xmin=min(prediction), xmax=max(prediction), color='green')\n",
    "plt.xlabel('Predicted Values')\n",
    "plt.ylabel('Prediction Error')\n",
    "plt.title(\"Prediction Error Plot\")\n",
    "plt.grid(True)\n",
    "plt.savefig('pred error.jpeg')"
   ]
  },
  {
   "cell_type": "markdown",
   "id": "e7c093f8",
   "metadata": {},
   "source": [
    "### Plotting one of the Decision Trees in Random Forest"
   ]
  },
  {
   "cell_type": "markdown",
   "id": "7ac0d1da",
   "metadata": {},
   "source": [
    "#### XGBoost"
   ]
  },
  {
   "cell_type": "code",
   "execution_count": 213,
   "id": "cdc5d78d",
   "metadata": {},
   "outputs": [
    {
     "name": "stdout",
     "output_type": "stream",
     "text": [
      "XGBRegressor(base_score=None, booster='gbtree', callbacks=None,\n",
      "             colsample_bylevel=None, colsample_bynode=None,\n",
      "             colsample_bytree=None, early_stopping_rounds=None,\n",
      "             enable_categorical=False, eval_metric=None, feature_types=None,\n",
      "             gamma=None, gpu_id=None, grow_policy=None, importance_type=None,\n",
      "             interaction_constraints=None, learning_rate=0.1, max_bin=None,\n",
      "             max_cat_threshold=None, max_cat_to_onehot=None,\n",
      "             max_delta_step=None, max_depth=5, max_leaves=None,\n",
      "             min_child_weight=None, missing=nan, monotone_constraints=None,\n",
      "             n_estimators=100, n_jobs=None, num_parallel_tree=None,\n",
      "             objective='reg:linear', predictor=None, ...)\n",
      "[17:27:39] WARNING: C:/buildkite-agent/builds/buildkite-windows-cpu-autoscaling-group-i-08de971ced8a8cdc6-1/xgboost/xgboost-ci-windows/src/objective/regression_obj.cu:213: reg:linear is now deprecated in favor of reg:squarederror.\n",
      "R2 Value: 0.873497364286579\n",
      "\n",
      "##### Model Validation and Accuracy Calculations ##########\n",
      "   price  Predictedprice\n",
      "0  16995         16419.0\n",
      "1   4000          7077.0\n",
      "2   6980          6659.0\n",
      "3   7995          9381.0\n",
      "4  32750         28790.0\n",
      "Mean Accuracy on test data: 78.50169563293457\n",
      "Median Accuracy on test data: 85.8205394744873\n",
      "[17:27:53] WARNING: C:/buildkite-agent/builds/buildkite-windows-cpu-autoscaling-group-i-08de971ced8a8cdc6-1/xgboost/xgboost-ci-windows/src/objective/regression_obj.cu:213: reg:linear is now deprecated in favor of reg:squarederror.\n",
      "[17:28:11] WARNING: C:/buildkite-agent/builds/buildkite-windows-cpu-autoscaling-group-i-08de971ced8a8cdc6-1/xgboost/xgboost-ci-windows/src/objective/regression_obj.cu:213: reg:linear is now deprecated in favor of reg:squarederror.\n",
      "[17:28:30] WARNING: C:/buildkite-agent/builds/buildkite-windows-cpu-autoscaling-group-i-08de971ced8a8cdc6-1/xgboost/xgboost-ci-windows/src/objective/regression_obj.cu:213: reg:linear is now deprecated in favor of reg:squarederror.\n",
      "[17:28:48] WARNING: C:/buildkite-agent/builds/buildkite-windows-cpu-autoscaling-group-i-08de971ced8a8cdc6-1/xgboost/xgboost-ci-windows/src/objective/regression_obj.cu:213: reg:linear is now deprecated in favor of reg:squarederror.\n",
      "[17:29:06] WARNING: C:/buildkite-agent/builds/buildkite-windows-cpu-autoscaling-group-i-08de971ced8a8cdc6-1/xgboost/xgboost-ci-windows/src/objective/regression_obj.cu:213: reg:linear is now deprecated in favor of reg:squarederror.\n",
      "[17:29:25] WARNING: C:/buildkite-agent/builds/buildkite-windows-cpu-autoscaling-group-i-08de971ced8a8cdc6-1/xgboost/xgboost-ci-windows/src/objective/regression_obj.cu:213: reg:linear is now deprecated in favor of reg:squarederror.\n",
      "[17:29:44] WARNING: C:/buildkite-agent/builds/buildkite-windows-cpu-autoscaling-group-i-08de971ced8a8cdc6-1/xgboost/xgboost-ci-windows/src/objective/regression_obj.cu:213: reg:linear is now deprecated in favor of reg:squarederror.\n",
      "[17:30:02] WARNING: C:/buildkite-agent/builds/buildkite-windows-cpu-autoscaling-group-i-08de971ced8a8cdc6-1/xgboost/xgboost-ci-windows/src/objective/regression_obj.cu:213: reg:linear is now deprecated in favor of reg:squarederror.\n",
      "[17:30:20] WARNING: C:/buildkite-agent/builds/buildkite-windows-cpu-autoscaling-group-i-08de971ced8a8cdc6-1/xgboost/xgboost-ci-windows/src/objective/regression_obj.cu:213: reg:linear is now deprecated in favor of reg:squarederror.\n",
      "[17:30:39] WARNING: C:/buildkite-agent/builds/buildkite-windows-cpu-autoscaling-group-i-08de971ced8a8cdc6-1/xgboost/xgboost-ci-windows/src/objective/regression_obj.cu:213: reg:linear is now deprecated in favor of reg:squarederror.\n",
      "\n",
      "Accuracy values for 10-fold Cross Validation:\n",
      " [78.67165121 78.37803958 78.38872801 78.87623591 78.43376697 78.65596438\n",
      " 78.45123265 78.51309797 79.14436379 78.61492074]\n",
      "\n",
      "Final Average Accuracy of the model: 78.61\n"
     ]
    },
    {
     "data": {
      "image/png": "[encoded data removed]",
      "text/plain": [
       "<Figure size 432x288 with 1 Axes>"
      ]
     },
     "metadata": {
      "needs_background": "light"
     },
     "output_type": "display_data"
    }
   ],
   "source": [
    "# Xtreme Gradient Boosting (XGBoost)\n",
    "from xgboost import XGBRegressor\n",
    "RegModel=XGBRegressor(max_depth=5, \n",
    "                      learning_rate=0.1, \n",
    "                      n_estimators=100, \n",
    "                      objective='reg:linear', \n",
    "                      booster='gbtree')\n",
    "\n",
    "# Printing all the parameters of XGBoost\n",
    "print(RegModel)\n",
    "\n",
    "# Creating the model on Training Data\n",
    "XGB=RegModel.fit(X_train,y_train)\n",
    "prediction=XGB.predict(X_test)\n",
    "\n",
    "from sklearn import metrics\n",
    "# Measuring Goodness of fit in Training data\n",
    "print('R2 Value:',metrics.r2_score(y_train, XGB.predict(X_train)))\n",
    "\n",
    "# Plotting the feature importance for Top 10 most important columns\n",
    "%matplotlib inline\n",
    "feature_importances = pd.Series(XGB.feature_importances_, index=Predictors)\n",
    "feature_importances.nlargest(10).plot(kind='barh')\n",
    "###########################################################################\n",
    "print('\\n##### Model Validation and Accuracy Calculations ##########')\n",
    "\n",
    "# Printing some sample values of prediction\n",
    "TestingDataResults=pd.DataFrame(data=X_test, columns=Predictors)\n",
    "TestingDataResults[TargetVariable]=y_test\n",
    "TestingDataResults[('Predicted'+TargetVariable)]=np.round(prediction)\n",
    "\n",
    "# Printing sample prediction values\n",
    "print(TestingDataResults[[TargetVariable,'Predicted'+TargetVariable]].head())\n",
    "\n",
    "# Calculating the error for each row\n",
    "TestingDataResults['APE']=100 * ((abs(\n",
    "  TestingDataResults['price']-TestingDataResults['Predicted'+TargetVariable]))/TestingDataResults['price'])\n",
    "\n",
    "\n",
    "MAPE=np.mean(TestingDataResults['APE'])\n",
    "MedianMAPE=np.median(TestingDataResults['APE'])\n",
    "\n",
    "Accuracy =100 - MAPE\n",
    "MedianAccuracy=100- MedianMAPE\n",
    "print('Mean Accuracy on test data:', Accuracy) # Can be negative sometimes due to outlier\n",
    "print('Median Accuracy on test data:', MedianAccuracy)\n",
    "\n",
    "\n",
    "# Defining a custom function to calculate accuracy\n",
    "# Make sure there are no zeros in the Target variable if you are using MAPE\n",
    "def Accuracy_Score(orig,pred):\n",
    "    MAPE = np.mean(100 * (np.abs(orig-pred)/orig))\n",
    "    #print('#'*70,'Accuracy:', 100-MAPE)\n",
    "    return(100-MAPE)\n",
    "\n",
    "# Custom Scoring MAPE calculation\n",
    "from sklearn.metrics import make_scorer\n",
    "custom_Scoring=make_scorer(Accuracy_Score, greater_is_better=True)\n",
    "\n",
    "# Importing cross validation function from sklearn\n",
    "from sklearn.model_selection import cross_val_score\n",
    "\n",
    "# Running 10-Fold Cross validation on a given algorithm\n",
    "# Passing full data X and y because the K-fold will split the data and automatically choose train/test\n",
    "Accuracy_Values=cross_val_score(RegModel, X , y, cv=10, scoring=custom_Scoring)\n",
    "print('\\nAccuracy values for 10-fold Cross Validation:\\n',Accuracy_Values)\n",
    "print('\\nFinal Average Accuracy of the model:', round(Accuracy_Values.mean(),2))"
   ]
  },
  {
   "cell_type": "code",
   "execution_count": 214,
   "id": "3969a36e",
   "metadata": {},
   "outputs": [
    {
     "data": {
      "text/plain": [
       "<AxesSubplot:>"
      ]
     },
     "execution_count": 214,
     "metadata": {},
     "output_type": "execute_result"
    },
    {
     "data": {
      "image/png": "[encoded data removed]",
      "text/plain": [
       "<Figure size 5760x2880 with 1 Axes>"
      ]
     },
     "metadata": {
      "needs_background": "light"
     },
     "output_type": "display_data"
    }
   ],
   "source": [
    "from xgboost import plot_tree\n",
    "import matplotlib.pyplot as plt\n",
    "fig, ax = plt.subplots(figsize=(80, 40))\n",
    "plot_tree(XGB, num_trees=10, ax=ax)\n",
    "# Double click on the graph to zoom in"
   ]
  },
  {
   "cell_type": "markdown",
   "id": "c3f5a427",
   "metadata": {},
   "source": [
    "#### KNN"
   ]
  },
  {
   "cell_type": "code",
   "execution_count": 215,
   "id": "a9cd546a",
   "metadata": {},
   "outputs": [
    {
     "name": "stdout",
     "output_type": "stream",
     "text": [
      "KNeighborsRegressor(n_neighbors=7)\n",
      "R2 Value: 0.9351313802397273\n",
      "\n",
      "##### Model Validation and Accuracy Calculations ##########\n",
      "   price  Predictedprice\n",
      "0  16995         15152.0\n",
      "1   4000          6105.0\n",
      "2   6980          6281.0\n",
      "3   7995          7708.0\n",
      "4  32750         31719.0\n",
      "Mean Accuracy on test data: 84.5451722038658\n",
      "Median Accuracy on test data: 90.35269017934529\n",
      "\n",
      "Accuracy values for 10-fold Cross Validation:\n",
      " [84.78915141 84.76156087 84.81314285 84.79006275 84.75795447 84.90649766\n",
      " 84.93606067 84.78536365 84.89941828 84.88932532]\n",
      "\n",
      "Final Average Accuracy of the model: 84.83\n"
     ]
    }
   ],
   "source": [
    "# K-Nearest Neighbor(KNN)\n",
    "from sklearn.neighbors import KNeighborsRegressor\n",
    "RegModel = KNeighborsRegressor(n_neighbors=7)\n",
    "\n",
    "# Printing all the parameters of KNN\n",
    "print(RegModel)\n",
    "\n",
    "# Creating the model on Training Data\n",
    "KNN=RegModel.fit(X_train,y_train)\n",
    "prediction=KNN.predict(X_test)\n",
    "\n",
    "from sklearn import metrics\n",
    "# Measuring Goodness of fit in Training data\n",
    "print('R2 Value:',metrics.r2_score(y_train, KNN.predict(X_train)))\n",
    "\n",
    "# Plotting the feature importance for Top 10 most important columns\n",
    "# The variable importance chart is not available for KNN\n",
    "\n",
    "###########################################################################\n",
    "print('\\n##### Model Validation and Accuracy Calculations ##########')\n",
    "\n",
    "# Printing some sample values of prediction\n",
    "TestingDataResults=pd.DataFrame(data=X_test, columns=Predictors)\n",
    "TestingDataResults[TargetVariable]=y_test\n",
    "TestingDataResults[('Predicted'+TargetVariable)]=np.round(prediction)\n",
    "\n",
    "# Printing sample prediction values\n",
    "print(TestingDataResults[[TargetVariable,'Predicted'+TargetVariable]].head())\n",
    "\n",
    "# Calculating the error for each row\n",
    "TestingDataResults['APE']=100 * ((abs(\n",
    "  TestingDataResults['price']-TestingDataResults['Predicted'+TargetVariable]))/TestingDataResults['price'])\n",
    "\n",
    "MAPE=np.mean(TestingDataResults['APE'])\n",
    "MedianMAPE=np.median(TestingDataResults['APE'])\n",
    "\n",
    "Accuracy =100 - MAPE\n",
    "MedianAccuracy=100- MedianMAPE\n",
    "print('Mean Accuracy on test data:', Accuracy) # Can be negative sometimes due to outlier\n",
    "print('Median Accuracy on test data:', MedianAccuracy)\n",
    "\n",
    "# Defining a custom function to calculate accuracy\n",
    "# Make sure there are no zeros in the Target variable if you are using MAPE\n",
    "def Accuracy_Score(orig,pred):\n",
    "    MAPE = np.mean(100 * (np.abs(orig-pred)/orig))\n",
    "    #print('#'*70,'Accuracy:', 100-MAPE)\n",
    "    return(100-MAPE)\n",
    "\n",
    "# Custom Scoring MAPE calculation\n",
    "from sklearn.metrics import make_scorer\n",
    "custom_Scoring=make_scorer(Accuracy_Score, greater_is_better=True)\n",
    "\n",
    "# Importing cross validation function from sklearn\n",
    "from sklearn.model_selection import cross_val_score\n",
    "\n",
    "# Running 10-Fold Cross validation on a given algorithm\n",
    "# Passing full data X and y because the K-fold will split the data and automatically choose train/test\n",
    "Accuracy_Values=cross_val_score(RegModel, X , y, cv=10, scoring=custom_Scoring)\n",
    "print('\\nAccuracy values for 10-fold Cross Validation:\\n',Accuracy_Values)\n",
    "print('\\nFinal Average Accuracy of the model:', round(Accuracy_Values.mean(),2))"
   ]
  },
  {
   "cell_type": "markdown",
   "id": "53e0aca3",
   "metadata": {},
   "source": [
    "#### GRID SEARCH ON RANDOM FOREST"
   ]
  },
  {
   "cell_type": "code",
   "execution_count": 216,
   "id": "2b2415e8",
   "metadata": {},
   "outputs": [
    {
     "name": "stdout",
     "output_type": "stream",
     "text": [
      "Best Parameters:  {'max_depth': 15, 'n_estimators': 100}\n",
      "Best Score:  0.9352137999927639\n"
     ]
    }
   ],
   "source": [
    "from sklearn.ensemble import RandomForestRegressor\n",
    "from sklearn.model_selection import GridSearchCV\n",
    "from sklearn.metrics import make_scorer, r2_score\n",
    "\n",
    "# Define the custom scoring function for R2 score\n",
    "def custom_scoring_function(y_true, y_pred):\n",
    "    return r2_score(y_true, y_pred)\n",
    "\n",
    "# Create the custom scoring function\n",
    "custom_scorer = make_scorer(custom_scoring_function)\n",
    "\n",
    "# Define the parameter grid\n",
    "param_grid = {'max_depth': [5, 10, 15],\n",
    "              'n_estimators': [50, 100]}\n",
    "\n",
    "# Create the grid search object\n",
    "grid_search = GridSearchCV(RandomForestRegressor(), param_grid, cv=5, scoring=custom_scorer)\n",
    "\n",
    "# Fit the grid search to the data\n",
    "grid_search.fit(X, y)\n",
    "\n",
    "# Print the best parameters and the best score\n",
    "print(\"Best Parameters: \", grid_search.best_params_)\n",
    "print(\"Best Score: \", grid_search.best_score_)"
   ]
  }
 ],
 "metadata": {
  "kernelspec": {
   "display_name": "Python 3",
   "language": "python",
   "name": "python3"
  },
  "language_info": {
   "codemirror_mode": {
    "name": "ipython",
    "version": 3
   },
   "file_extension": ".py",
   "mimetype": "text/x-python",
   "name": "python",
   "nbconvert_exporter": "python",
   "pygments_lexer": "ipython3",
   "version": "3.8.8"
  }
 },
 "nbformat": 4,
 "nbformat_minor": 5
}
